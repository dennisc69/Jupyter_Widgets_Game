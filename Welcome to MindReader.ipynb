{
 "cells": [
  {
   "cell_type": "markdown",
   "metadata": {},
   "source": [
    "<font size=\"8\" face=\"courrier\">Examples for Atul Butte's Lab</font>"
   ]
  },
  {
   "cell_type": "markdown",
   "metadata": {},
   "source": [
    "Here are a few exampels of interactive jupyter notebooks. "
   ]
  },
  {
   "cell_type": "markdown",
   "metadata": {},
   "source": [
    "# Video Game Example"
   ]
  },
  {
   "cell_type": "markdown",
   "metadata": {},
   "source": [
    "This is a video game that I made real fast in jupyter notebook."
   ]
  },
  {
   "cell_type": "code",
   "execution_count": null,
   "metadata": {},
   "outputs": [],
   "source": [
    "%run embed.ipynb\n",
    "MindReader()"
   ]
  },
  {
   "cell_type": "code",
   "execution_count": null,
   "metadata": {},
   "outputs": [],
   "source": []
  }
 ],
 "metadata": {
  "hide_input": false,
  "kernelspec": {
   "display_name": "Python 3",
   "language": "python",
   "name": "python3"
  },
  "language_info": {
   "codemirror_mode": {
    "name": "ipython",
    "version": 3
   },
   "file_extension": ".py",
   "mimetype": "text/x-python",
   "name": "python",
   "nbconvert_exporter": "python",
   "pygments_lexer": "ipython3",
   "version": "3.6.6"
  },
  "toc": {
   "base_numbering": 1,
   "nav_menu": {},
   "number_sections": true,
   "sideBar": true,
   "skip_h1_title": false,
   "title_cell": "Table of Contents",
   "title_sidebar": "Contents",
   "toc_cell": false,
   "toc_position": {},
   "toc_section_display": true,
   "toc_window_display": false
  },
  "varInspector": {
   "cols": {
    "lenName": 16,
    "lenType": 16,
    "lenVar": 40
   },
   "kernels_config": {
    "python": {
     "delete_cmd_postfix": "",
     "delete_cmd_prefix": "del ",
     "library": "var_list.py",
     "varRefreshCmd": "print(var_dic_list())"
    },
    "r": {
     "delete_cmd_postfix": ") ",
     "delete_cmd_prefix": "rm(",
     "library": "var_list.r",
     "varRefreshCmd": "cat(var_dic_list()) "
    }
   },
   "types_to_exclude": [
    "module",
    "function",
    "builtin_function_or_method",
    "instance",
    "_Feature"
   ],
   "window_display": false
  },
  "widgets": {
   "application/vnd.jupyter.widget-state+json": {
    "state": {
     "00f7cc6630b941d98127642072ffd7e7": {
      "model_module": "@jupyter-widgets/controls",
      "model_module_version": "1.2.0",
      "model_name": "ButtonStyleModel",
      "state": {}
     },
     "01f6f0fe665348c59c6bd8434e291a8f": {
      "model_module": "@jupyter-widgets/controls",
      "model_module_version": "1.2.0",
      "model_name": "HTMLModel",
      "state": {
       "layout": "IPY_MODEL_e0589fa317024baca5a3c802f809bfe4",
       "style": "IPY_MODEL_6d5c46a86499447091d56f01c1ab78b2",
       "value": "<h1 style='color:green' >You Win!</h1>"
      }
     },
     "03171cb9de95437db3f7c97f9088707f": {
      "model_module": "@jupyter-widgets/controls",
      "model_module_version": "1.2.0",
      "model_name": "IntProgressModel",
      "state": {
       "bar_style": "danger",
       "description": "Bot:",
       "layout": "IPY_MODEL_82e717d62bc14a35ac16152fb929779d",
       "max": 50,
       "style": "IPY_MODEL_8b023db14ccd408a95f5384ea156cd64",
       "value": 31
      }
     },
     "038f62a45e55430b8931a4de9c145695": {
      "model_module": "@jupyter-widgets/controls",
      "model_module_version": "1.2.0",
      "model_name": "VBoxModel",
      "state": {
       "children": [
        "IPY_MODEL_28158d7ca2a94ce6ab7a610b157d4a1b",
        "IPY_MODEL_0dc8292d83dd4de2b31938ebf57a2ad5"
       ],
       "layout": "IPY_MODEL_3ff35c9ab98e4eacb78e3fe6822007d5"
      }
     },
     "05784f216a0747a981f866a4edd0cc6c": {
      "model_module": "@jupyter-widgets/controls",
      "model_module_version": "1.2.0",
      "model_name": "HBoxModel",
      "state": {
       "children": [
        "IPY_MODEL_620f725ebe97493ab34b85a8c28996c4",
        "IPY_MODEL_360d19e15f5c4e0da09a665a036bbd42"
       ],
       "layout": "IPY_MODEL_ecbe935560d64e238a2662aee96fb081"
      }
     },
     "05cc200af18d4b8cbe59999c648e8aba": {
      "model_module": "@jupyter-widgets/controls",
      "model_module_version": "1.2.0",
      "model_name": "VBoxModel",
      "state": {
       "children": [
        "IPY_MODEL_203f386cecd44b2eaedee51454008172",
        "IPY_MODEL_cb098949ec0d4944a0eb4cdf1082b287"
       ],
       "layout": "IPY_MODEL_63a19d54dc9f439b889d01a36f45b124"
      }
     },
     "0a1dd46af2f944b7a1109aa29f2eb607": {
      "model_module": "@jupyter-widgets/controls",
      "model_module_version": "1.2.0",
      "model_name": "HTMLModel",
      "state": {
       "layout": "IPY_MODEL_11b4aff48760447082a77441fc5655b6",
       "style": "IPY_MODEL_ae056b83cb6345a8ad4476cb7ed7e024",
       "value": "<h1 style='color:green' >You Win!</h1>"
      }
     },
     "0aa3e82dc61445eda5a67d5abae6eefb": {
      "model_module": "@jupyter-widgets/controls",
      "model_module_version": "1.2.0",
      "model_name": "ButtonModel",
      "state": {
       "disabled": true,
       "icon": "arrow-right",
       "layout": "IPY_MODEL_eab734954e2e4c21b9b41f5f9878896c",
       "style": "IPY_MODEL_3745ea6a17254a40ac4adbb8491494c6"
      }
     },
     "0dc8292d83dd4de2b31938ebf57a2ad5": {
      "model_module": "@jupyter-widgets/controls",
      "model_module_version": "1.2.0",
      "model_name": "HBoxModel",
      "state": {
       "children": [
        "IPY_MODEL_b0c98003ee6842f6bde2c631a495352a",
        "IPY_MODEL_8ecb785986e3464d8ffca9316fe716be"
       ],
       "layout": "IPY_MODEL_916dee2b11094bc0a0cc185c30bf8109"
      }
     },
     "107b8631133c41e5970e2422fbc46d9d": {
      "model_module": "@jupyter-widgets/controls",
      "model_module_version": "1.2.0",
      "model_name": "VBoxModel",
      "state": {
       "children": [
        "IPY_MODEL_da3d367f2d1f4add99ebb8e6e13e2387",
        "IPY_MODEL_7a319a5451d7411fa3514c35019eaaa0"
       ],
       "layout": "IPY_MODEL_7f6dcfd8c7f144e790f6528f0748625e"
      }
     },
     "11b4aff48760447082a77441fc5655b6": {
      "model_module": "@jupyter-widgets/base",
      "model_module_version": "1.0.0",
      "model_name": "LayoutModel",
      "state": {
       "visibility": "hidden"
      }
     },
     "182b75c18fbb419d84c2cc03a1c2ab9b": {
      "model_module": "@jupyter-widgets/base",
      "model_module_version": "1.0.0",
      "model_name": "LayoutModel",
      "state": {}
     },
     "1841a80b2bb74314bf7e0d321391303a": {
      "model_module": "@jupyter-widgets/base",
      "model_module_version": "1.0.0",
      "model_name": "LayoutModel",
      "state": {}
     },
     "18eb06b698c04ce582fbb059cdcdc70e": {
      "model_module": "@jupyter-widgets/controls",
      "model_module_version": "1.2.0",
      "model_name": "ButtonModel",
      "state": {
       "icon": "arrow-left",
       "layout": "IPY_MODEL_9ca21416fb4d4231b4eb96981f523f0f",
       "style": "IPY_MODEL_00f7cc6630b941d98127642072ffd7e7"
      }
     },
     "203f386cecd44b2eaedee51454008172": {
      "model_module": "@jupyter-widgets/controls",
      "model_module_version": "1.2.0",
      "model_name": "HBoxModel",
      "state": {
       "children": [
        "IPY_MODEL_ade36d684c5b4f1599becb9d2d02ce08",
        "IPY_MODEL_01f6f0fe665348c59c6bd8434e291a8f"
       ],
       "layout": "IPY_MODEL_7cde81e68a8049c28861c8bc567eee62"
      }
     },
     "2628306308f540269dfc34fd89bfdf31": {
      "model_module": "@jupyter-widgets/controls",
      "model_module_version": "1.2.0",
      "model_name": "VBoxModel",
      "state": {
       "children": [
        "IPY_MODEL_c72d8f8b5734482fadc1686aea91954b",
        "IPY_MODEL_f2adaa098d7948f6bbd80b1b6cefd169"
       ],
       "layout": "IPY_MODEL_759a61058ec2419ca8205aa3b2dcd186"
      }
     },
     "28158d7ca2a94ce6ab7a610b157d4a1b": {
      "model_module": "@jupyter-widgets/controls",
      "model_module_version": "1.2.0",
      "model_name": "HBoxModel",
      "state": {
       "children": [
        "IPY_MODEL_2628306308f540269dfc34fd89bfdf31",
        "IPY_MODEL_0a1dd46af2f944b7a1109aa29f2eb607"
       ],
       "layout": "IPY_MODEL_5c4e3fb879f74cf389e03462dd8f9693"
      }
     },
     "29cc004acdac40159d5fe1e4ce57d86b": {
      "model_module": "@jupyter-widgets/controls",
      "model_module_version": "1.2.0",
      "model_name": "ButtonStyleModel",
      "state": {}
     },
     "306c8a3f01b74fa0adaf220c6975502e": {
      "model_module": "@jupyter-widgets/base",
      "model_module_version": "1.0.0",
      "model_name": "LayoutModel",
      "state": {}
     },
     "30e2db94938449eea8eeb34bda249f2a": {
      "model_module": "@jupyter-widgets/controls",
      "model_module_version": "1.2.0",
      "model_name": "ButtonStyleModel",
      "state": {}
     },
     "32c8c5f045ea403695c80dca2cccd5d6": {
      "model_module": "@jupyter-widgets/controls",
      "model_module_version": "1.2.0",
      "model_name": "IntProgressModel",
      "state": {
       "bar_style": "success",
       "description": "You:",
       "layout": "IPY_MODEL_9855ec37157244d2afab5d0a5010745a",
       "max": 50,
       "style": "IPY_MODEL_c6a41bf20e174ea98df208de20b61128",
       "value": 28
      }
     },
     "34405f3d2fe94edc88650fb8de971d96": {
      "model_module": "@jupyter-widgets/controls",
      "model_module_version": "1.2.0",
      "model_name": "ProgressStyleModel",
      "state": {
       "description_width": ""
      }
     },
     "3497224321404c68b016c25aa9b61468": {
      "model_module": "@jupyter-widgets/controls",
      "model_module_version": "1.2.0",
      "model_name": "ButtonStyleModel",
      "state": {}
     },
     "360d19e15f5c4e0da09a665a036bbd42": {
      "model_module": "@jupyter-widgets/controls",
      "model_module_version": "1.2.0",
      "model_name": "HTMLModel",
      "state": {
       "layout": "IPY_MODEL_4ce9d76ff1fc4909a12dd3a3b3ded4e3",
       "style": "IPY_MODEL_d8cc3055ea634e4a8eb4cec8191ba9ec",
       "value": "<h1 style='color:green' >You Win!</h1>"
      }
     },
     "3745ea6a17254a40ac4adbb8491494c6": {
      "model_module": "@jupyter-widgets/controls",
      "model_module_version": "1.2.0",
      "model_name": "ButtonStyleModel",
      "state": {}
     },
     "3c4d4ee0b86c441082262e8c99beb702": {
      "model_module": "@jupyter-widgets/controls",
      "model_module_version": "1.2.0",
      "model_name": "ProgressStyleModel",
      "state": {
       "description_width": ""
      }
     },
     "3d60cd2328ce4ec69f67879acd398ec5": {
      "model_module": "@jupyter-widgets/base",
      "model_module_version": "1.0.0",
      "model_name": "LayoutModel",
      "state": {}
     },
     "3f11fc0131a247eab8f9551df9099133": {
      "model_module": "@jupyter-widgets/base",
      "model_module_version": "1.0.0",
      "model_name": "LayoutModel",
      "state": {}
     },
     "3ff35c9ab98e4eacb78e3fe6822007d5": {
      "model_module": "@jupyter-widgets/base",
      "model_module_version": "1.0.0",
      "model_name": "LayoutModel",
      "state": {}
     },
     "4302c07157b6417ea9666bcc04768f1b": {
      "model_module": "@jupyter-widgets/base",
      "model_module_version": "1.0.0",
      "model_name": "LayoutModel",
      "state": {}
     },
     "477e6c8e419b4973943c8508240e08f4": {
      "model_module": "@jupyter-widgets/controls",
      "model_module_version": "1.2.0",
      "model_name": "ProgressStyleModel",
      "state": {
       "description_width": ""
      }
     },
     "47d80df1aca247a9b5cd7e97de0c84ee": {
      "model_module": "@jupyter-widgets/base",
      "model_module_version": "1.0.0",
      "model_name": "LayoutModel",
      "state": {}
     },
     "4ce9d76ff1fc4909a12dd3a3b3ded4e3": {
      "model_module": "@jupyter-widgets/base",
      "model_module_version": "1.0.0",
      "model_name": "LayoutModel",
      "state": {
       "visibility": "hidden"
      }
     },
     "4dcf076b3da54796b6337d498692b32b": {
      "model_module": "@jupyter-widgets/base",
      "model_module_version": "1.0.0",
      "model_name": "LayoutModel",
      "state": {}
     },
     "4fc3108422c04128835cc93ca29d0103": {
      "model_module": "@jupyter-widgets/base",
      "model_module_version": "1.0.0",
      "model_name": "LayoutModel",
      "state": {
       "visibility": "visible"
      }
     },
     "52571c1013ca4d9db720b80618bdc64b": {
      "model_module": "@jupyter-widgets/controls",
      "model_module_version": "1.2.0",
      "model_name": "VBoxModel",
      "state": {
       "children": [
        "IPY_MODEL_05784f216a0747a981f866a4edd0cc6c",
        "IPY_MODEL_5eb2e240bc334a3282f621f528e19884"
       ],
       "layout": "IPY_MODEL_d14fbd0414c54c8ba8ee06e907c166c8"
      }
     },
     "58026404213e4c6da6d0e15cceb2bbc8": {
      "model_module": "@jupyter-widgets/controls",
      "model_module_version": "1.2.0",
      "model_name": "IntProgressModel",
      "state": {
       "bar_style": "danger",
       "description": "Bot:",
       "layout": "IPY_MODEL_47d80df1aca247a9b5cd7e97de0c84ee",
       "max": 50,
       "style": "IPY_MODEL_477e6c8e419b4973943c8508240e08f4"
      }
     },
     "5bb416e233414774b988b9bd8d96f1bf": {
      "model_module": "@jupyter-widgets/controls",
      "model_module_version": "1.2.0",
      "model_name": "DescriptionStyleModel",
      "state": {
       "description_width": ""
      }
     },
     "5c4e3fb879f74cf389e03462dd8f9693": {
      "model_module": "@jupyter-widgets/base",
      "model_module_version": "1.0.0",
      "model_name": "LayoutModel",
      "state": {}
     },
     "5dcf8044c25048489d27eb8d51c274dc": {
      "model_module": "@jupyter-widgets/base",
      "model_module_version": "1.0.0",
      "model_name": "LayoutModel",
      "state": {}
     },
     "5eb2e240bc334a3282f621f528e19884": {
      "model_module": "@jupyter-widgets/controls",
      "model_module_version": "1.2.0",
      "model_name": "HBoxModel",
      "state": {
       "children": [
        "IPY_MODEL_88f3c330de754e4884775d1fafc12c89",
        "IPY_MODEL_6f778addd1c14c7e8134fd76362d4574"
       ],
       "layout": "IPY_MODEL_182b75c18fbb419d84c2cc03a1c2ab9b"
      }
     },
     "620f725ebe97493ab34b85a8c28996c4": {
      "model_module": "@jupyter-widgets/controls",
      "model_module_version": "1.2.0",
      "model_name": "VBoxModel",
      "state": {
       "children": [
        "IPY_MODEL_32c8c5f045ea403695c80dca2cccd5d6",
        "IPY_MODEL_03171cb9de95437db3f7c97f9088707f"
       ],
       "layout": "IPY_MODEL_5dcf8044c25048489d27eb8d51c274dc"
      }
     },
     "62f02ed7b07a40f7a36a4482739b0b9c": {
      "model_module": "@jupyter-widgets/controls",
      "model_module_version": "1.2.0",
      "model_name": "HBoxModel",
      "state": {
       "children": [
        "IPY_MODEL_107b8631133c41e5970e2422fbc46d9d",
        "IPY_MODEL_fb315d16480c408eb4a91d2fd7e8b779"
       ],
       "layout": "IPY_MODEL_3d60cd2328ce4ec69f67879acd398ec5"
      }
     },
     "63a19d54dc9f439b889d01a36f45b124": {
      "model_module": "@jupyter-widgets/base",
      "model_module_version": "1.0.0",
      "model_name": "LayoutModel",
      "state": {}
     },
     "6d5c46a86499447091d56f01c1ab78b2": {
      "model_module": "@jupyter-widgets/controls",
      "model_module_version": "1.2.0",
      "model_name": "DescriptionStyleModel",
      "state": {
       "description_width": ""
      }
     },
     "6f778addd1c14c7e8134fd76362d4574": {
      "model_module": "@jupyter-widgets/controls",
      "model_module_version": "1.2.0",
      "model_name": "ButtonModel",
      "state": {
       "icon": "arrow-right",
       "layout": "IPY_MODEL_aa0782553dcd401c9bd39fe2d28ce041",
       "style": "IPY_MODEL_98411bd871974fc6941d32d368219dd5"
      }
     },
     "71027ac7bd7f40128134a2a57ce55546": {
      "model_module": "@jupyter-widgets/base",
      "model_module_version": "1.0.0",
      "model_name": "LayoutModel",
      "state": {}
     },
     "759a61058ec2419ca8205aa3b2dcd186": {
      "model_module": "@jupyter-widgets/base",
      "model_module_version": "1.0.0",
      "model_name": "LayoutModel",
      "state": {}
     },
     "75c17c1cd19c494aa199e2314c31d9d9": {
      "model_module": "@jupyter-widgets/controls",
      "model_module_version": "1.2.0",
      "model_name": "VBoxModel",
      "state": {
       "children": [
        "IPY_MODEL_62f02ed7b07a40f7a36a4482739b0b9c",
        "IPY_MODEL_da6dcbe506044f20982c80cb9a494001"
       ],
       "layout": "IPY_MODEL_4dcf076b3da54796b6337d498692b32b"
      }
     },
     "77546ab934f3489597a88f759c5011a1": {
      "model_module": "@jupyter-widgets/base",
      "model_module_version": "1.0.0",
      "model_name": "LayoutModel",
      "state": {}
     },
     "7a319a5451d7411fa3514c35019eaaa0": {
      "model_module": "@jupyter-widgets/controls",
      "model_module_version": "1.2.0",
      "model_name": "IntProgressModel",
      "state": {
       "bar_style": "danger",
       "description": "Bot:",
       "layout": "IPY_MODEL_7e82bcef4f05467e9344c10e9163b07d",
       "max": 50,
       "style": "IPY_MODEL_dadcc95b87aa45d9ae2bbfc8ae1ee923",
       "value": 50
      }
     },
     "7cde81e68a8049c28861c8bc567eee62": {
      "model_module": "@jupyter-widgets/base",
      "model_module_version": "1.0.0",
      "model_name": "LayoutModel",
      "state": {}
     },
     "7e82bcef4f05467e9344c10e9163b07d": {
      "model_module": "@jupyter-widgets/base",
      "model_module_version": "1.0.0",
      "model_name": "LayoutModel",
      "state": {}
     },
     "7f6dcfd8c7f144e790f6528f0748625e": {
      "model_module": "@jupyter-widgets/base",
      "model_module_version": "1.0.0",
      "model_name": "LayoutModel",
      "state": {}
     },
     "82e717d62bc14a35ac16152fb929779d": {
      "model_module": "@jupyter-widgets/base",
      "model_module_version": "1.0.0",
      "model_name": "LayoutModel",
      "state": {}
     },
     "8332208879dd476dabfd9f65b2c62e8e": {
      "model_module": "@jupyter-widgets/base",
      "model_module_version": "1.0.0",
      "model_name": "LayoutModel",
      "state": {}
     },
     "88f3c330de754e4884775d1fafc12c89": {
      "model_module": "@jupyter-widgets/controls",
      "model_module_version": "1.2.0",
      "model_name": "ButtonModel",
      "state": {
       "icon": "arrow-left",
       "layout": "IPY_MODEL_306c8a3f01b74fa0adaf220c6975502e",
       "style": "IPY_MODEL_e5820a5f5bb14ac4b0f60ee69c45770c"
      }
     },
     "8b023db14ccd408a95f5384ea156cd64": {
      "model_module": "@jupyter-widgets/controls",
      "model_module_version": "1.2.0",
      "model_name": "ProgressStyleModel",
      "state": {
       "description_width": ""
      }
     },
     "8ecb785986e3464d8ffca9316fe716be": {
      "model_module": "@jupyter-widgets/controls",
      "model_module_version": "1.2.0",
      "model_name": "ButtonModel",
      "state": {
       "icon": "arrow-right",
       "layout": "IPY_MODEL_efa86408f80740578b8ec5220642d388",
       "style": "IPY_MODEL_29cc004acdac40159d5fe1e4ce57d86b"
      }
     },
     "916dee2b11094bc0a0cc185c30bf8109": {
      "model_module": "@jupyter-widgets/base",
      "model_module_version": "1.0.0",
      "model_name": "LayoutModel",
      "state": {}
     },
     "98411bd871974fc6941d32d368219dd5": {
      "model_module": "@jupyter-widgets/controls",
      "model_module_version": "1.2.0",
      "model_name": "ButtonStyleModel",
      "state": {}
     },
     "9855ec37157244d2afab5d0a5010745a": {
      "model_module": "@jupyter-widgets/base",
      "model_module_version": "1.0.0",
      "model_name": "LayoutModel",
      "state": {}
     },
     "9ca21416fb4d4231b4eb96981f523f0f": {
      "model_module": "@jupyter-widgets/base",
      "model_module_version": "1.0.0",
      "model_name": "LayoutModel",
      "state": {}
     },
     "a705ee61af3f442eabd98f107bfc6390": {
      "model_module": "@jupyter-widgets/controls",
      "model_module_version": "1.2.0",
      "model_name": "ButtonModel",
      "state": {
       "icon": "arrow-right",
       "layout": "IPY_MODEL_1841a80b2bb74314bf7e0d321391303a",
       "style": "IPY_MODEL_ad99de8111334d938d0e2e97b3b2466c"
      }
     },
     "aa0782553dcd401c9bd39fe2d28ce041": {
      "model_module": "@jupyter-widgets/base",
      "model_module_version": "1.0.0",
      "model_name": "LayoutModel",
      "state": {}
     },
     "ad99de8111334d938d0e2e97b3b2466c": {
      "model_module": "@jupyter-widgets/controls",
      "model_module_version": "1.2.0",
      "model_name": "ButtonStyleModel",
      "state": {}
     },
     "ade36d684c5b4f1599becb9d2d02ce08": {
      "model_module": "@jupyter-widgets/controls",
      "model_module_version": "1.2.0",
      "model_name": "VBoxModel",
      "state": {
       "children": [
        "IPY_MODEL_db9622d9d5064c658921b684da59bb7f",
        "IPY_MODEL_58026404213e4c6da6d0e15cceb2bbc8"
       ],
       "layout": "IPY_MODEL_f4b326e7de0c45b7adf406b01739ab3b"
      }
     },
     "ae056b83cb6345a8ad4476cb7ed7e024": {
      "model_module": "@jupyter-widgets/controls",
      "model_module_version": "1.2.0",
      "model_name": "DescriptionStyleModel",
      "state": {
       "description_width": ""
      }
     },
     "b0c98003ee6842f6bde2c631a495352a": {
      "model_module": "@jupyter-widgets/controls",
      "model_module_version": "1.2.0",
      "model_name": "ButtonModel",
      "state": {
       "icon": "arrow-left",
       "layout": "IPY_MODEL_3f11fc0131a247eab8f9551df9099133",
       "style": "IPY_MODEL_3497224321404c68b016c25aa9b61468"
      }
     },
     "b17b59ebaf5d4ee39bd79331528d13c6": {
      "model_module": "@jupyter-widgets/controls",
      "model_module_version": "1.2.0",
      "model_name": "ProgressStyleModel",
      "state": {
       "description_width": ""
      }
     },
     "c512b1ac3a084c33b91122a3a2ab1894": {
      "model_module": "@jupyter-widgets/base",
      "model_module_version": "1.0.0",
      "model_name": "LayoutModel",
      "state": {}
     },
     "c6a41bf20e174ea98df208de20b61128": {
      "model_module": "@jupyter-widgets/controls",
      "model_module_version": "1.2.0",
      "model_name": "ProgressStyleModel",
      "state": {
       "description_width": ""
      }
     },
     "c72d8f8b5734482fadc1686aea91954b": {
      "model_module": "@jupyter-widgets/controls",
      "model_module_version": "1.2.0",
      "model_name": "IntProgressModel",
      "state": {
       "bar_style": "success",
       "description": "You:",
       "layout": "IPY_MODEL_c512b1ac3a084c33b91122a3a2ab1894",
       "max": 50,
       "style": "IPY_MODEL_b17b59ebaf5d4ee39bd79331528d13c6"
      }
     },
     "ca6864c58f8d4c2799a3f0d61b33185f": {
      "model_module": "@jupyter-widgets/controls",
      "model_module_version": "1.2.0",
      "model_name": "ButtonModel",
      "state": {
       "disabled": true,
       "icon": "arrow-left",
       "layout": "IPY_MODEL_8332208879dd476dabfd9f65b2c62e8e",
       "style": "IPY_MODEL_30e2db94938449eea8eeb34bda249f2a"
      }
     },
     "cb098949ec0d4944a0eb4cdf1082b287": {
      "model_module": "@jupyter-widgets/controls",
      "model_module_version": "1.2.0",
      "model_name": "HBoxModel",
      "state": {
       "children": [
        "IPY_MODEL_18eb06b698c04ce582fbb059cdcdc70e",
        "IPY_MODEL_a705ee61af3f442eabd98f107bfc6390"
       ],
       "layout": "IPY_MODEL_d33c8e1a58444774bc8921a5a5cd25d9"
      }
     },
     "d14fbd0414c54c8ba8ee06e907c166c8": {
      "model_module": "@jupyter-widgets/base",
      "model_module_version": "1.0.0",
      "model_name": "LayoutModel",
      "state": {}
     },
     "d33c8e1a58444774bc8921a5a5cd25d9": {
      "model_module": "@jupyter-widgets/base",
      "model_module_version": "1.0.0",
      "model_name": "LayoutModel",
      "state": {}
     },
     "d8cc3055ea634e4a8eb4cec8191ba9ec": {
      "model_module": "@jupyter-widgets/controls",
      "model_module_version": "1.2.0",
      "model_name": "DescriptionStyleModel",
      "state": {
       "description_width": ""
      }
     },
     "da3d367f2d1f4add99ebb8e6e13e2387": {
      "model_module": "@jupyter-widgets/controls",
      "model_module_version": "1.2.0",
      "model_name": "IntProgressModel",
      "state": {
       "bar_style": "success",
       "description": "You:",
       "layout": "IPY_MODEL_77546ab934f3489597a88f759c5011a1",
       "max": 50,
       "style": "IPY_MODEL_34405f3d2fe94edc88650fb8de971d96",
       "value": 49
      }
     },
     "da6dcbe506044f20982c80cb9a494001": {
      "model_module": "@jupyter-widgets/controls",
      "model_module_version": "1.2.0",
      "model_name": "HBoxModel",
      "state": {
       "children": [
        "IPY_MODEL_ca6864c58f8d4c2799a3f0d61b33185f",
        "IPY_MODEL_0aa3e82dc61445eda5a67d5abae6eefb"
       ],
       "layout": "IPY_MODEL_efd4f4ccc69d4a5687539aed0ac59978"
      }
     },
     "dadcc95b87aa45d9ae2bbfc8ae1ee923": {
      "model_module": "@jupyter-widgets/controls",
      "model_module_version": "1.2.0",
      "model_name": "ProgressStyleModel",
      "state": {
       "description_width": ""
      }
     },
     "db9622d9d5064c658921b684da59bb7f": {
      "model_module": "@jupyter-widgets/controls",
      "model_module_version": "1.2.0",
      "model_name": "IntProgressModel",
      "state": {
       "bar_style": "success",
       "description": "You:",
       "layout": "IPY_MODEL_71027ac7bd7f40128134a2a57ce55546",
       "max": 50,
       "style": "IPY_MODEL_3c4d4ee0b86c441082262e8c99beb702"
      }
     },
     "e0589fa317024baca5a3c802f809bfe4": {
      "model_module": "@jupyter-widgets/base",
      "model_module_version": "1.0.0",
      "model_name": "LayoutModel",
      "state": {
       "visibility": "hidden"
      }
     },
     "e5820a5f5bb14ac4b0f60ee69c45770c": {
      "model_module": "@jupyter-widgets/controls",
      "model_module_version": "1.2.0",
      "model_name": "ButtonStyleModel",
      "state": {}
     },
     "eab734954e2e4c21b9b41f5f9878896c": {
      "model_module": "@jupyter-widgets/base",
      "model_module_version": "1.0.0",
      "model_name": "LayoutModel",
      "state": {}
     },
     "ecbe935560d64e238a2662aee96fb081": {
      "model_module": "@jupyter-widgets/base",
      "model_module_version": "1.0.0",
      "model_name": "LayoutModel",
      "state": {}
     },
     "efa86408f80740578b8ec5220642d388": {
      "model_module": "@jupyter-widgets/base",
      "model_module_version": "1.0.0",
      "model_name": "LayoutModel",
      "state": {}
     },
     "efd4f4ccc69d4a5687539aed0ac59978": {
      "model_module": "@jupyter-widgets/base",
      "model_module_version": "1.0.0",
      "model_name": "LayoutModel",
      "state": {}
     },
     "f2adaa098d7948f6bbd80b1b6cefd169": {
      "model_module": "@jupyter-widgets/controls",
      "model_module_version": "1.2.0",
      "model_name": "IntProgressModel",
      "state": {
       "bar_style": "danger",
       "description": "Bot:",
       "layout": "IPY_MODEL_4302c07157b6417ea9666bcc04768f1b",
       "max": 50,
       "style": "IPY_MODEL_f6d553d2bec44f8ea64f0dbd5455a8a1"
      }
     },
     "f4b326e7de0c45b7adf406b01739ab3b": {
      "model_module": "@jupyter-widgets/base",
      "model_module_version": "1.0.0",
      "model_name": "LayoutModel",
      "state": {}
     },
     "f6d553d2bec44f8ea64f0dbd5455a8a1": {
      "model_module": "@jupyter-widgets/controls",
      "model_module_version": "1.2.0",
      "model_name": "ProgressStyleModel",
      "state": {
       "description_width": ""
      }
     },
     "fb315d16480c408eb4a91d2fd7e8b779": {
      "model_module": "@jupyter-widgets/controls",
      "model_module_version": "1.2.0",
      "model_name": "HTMLModel",
      "state": {
       "layout": "IPY_MODEL_4fc3108422c04128835cc93ca29d0103",
       "style": "IPY_MODEL_5bb416e233414774b988b9bd8d96f1bf",
       "value": "<h1 style='color:red' >You Loose!</h1>"
      }
     }
    },
    "version_major": 2,
    "version_minor": 0
   }
  }
 },
 "nbformat": 4,
 "nbformat_minor": 2
}
