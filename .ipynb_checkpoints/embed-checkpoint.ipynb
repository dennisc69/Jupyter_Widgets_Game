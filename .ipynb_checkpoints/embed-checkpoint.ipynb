{
 "cells": [
  {
   "cell_type": "markdown",
   "metadata": {},
   "source": [
    "# Setup File"
   ]
  },
  {
   "cell_type": "markdown",
   "metadata": {},
   "source": [
    "import packages that we need to run this file"
   ]
  },
  {
   "cell_type": "code",
   "execution_count": null,
   "metadata": {},
   "outputs": [],
   "source": [
    "from ipywidgets import *\n",
    "from random import *\n",
    "import numpy as np"
   ]
  },
  {
   "cell_type": "markdown",
   "metadata": {},
   "source": [
    "create some useful variables that we use through out the game:\n",
    "* usr_choice- what the user choice to move this turn, either 0 or 1"
   ]
  },
  {
   "cell_type": "code",
   "execution_count": null,
   "metadata": {},
   "outputs": [],
   "source": [
    "usr_past = []"
   ]
  },
  {
   "cell_type": "markdown",
   "metadata": {},
   "source": [
    "# Create <font color=\"green\">Button Widgets</font>.\n",
    "\n",
    "These are what the use clicks to decide move"
   ]
  },
  {
   "cell_type": "code",
   "execution_count": null,
   "metadata": {},
   "outputs": [],
   "source": [
    "left_btn  = Button( icon='arrow-left')\n",
    "right_btn = Button( icon='arrow-right') \n",
    "arrow_btns = HBox([ left_btn, right_btn ])\n",
    "arrow_btns"
   ]
  },
  {
   "cell_type": "code",
   "execution_count": null,
   "metadata": {},
   "outputs": [],
   "source": [
    "def left_click(b):\n",
    "    update_game(0)\n",
    "left_btn.on_click( left_click )"
   ]
  },
  {
   "cell_type": "code",
   "execution_count": null,
   "metadata": {},
   "outputs": [],
   "source": [
    "def right_click(b):\n",
    "    update_game(1)\n",
    "right_btn.on_click( right_click )"
   ]
  },
  {
   "cell_type": "markdown",
   "metadata": {},
   "source": [
    "# Create <font color=\"green\">scoreboard widget</font>"
   ]
  },
  {
   "cell_type": "code",
   "execution_count": null,
   "metadata": {},
   "outputs": [],
   "source": [
    "you_score = IntProgress( value=0,min=0, max=50, description='You:', bar_style='success')\n",
    "bot_score = IntProgress( value=0,min=0, max=50, description='Bot:', bar_style='danger')\n",
    "scoreboard = VBox([ you_score, bot_score ])\n",
    "scoreboard"
   ]
  },
  {
   "cell_type": "markdown",
   "metadata": {},
   "source": [
    "# Create <font color=\"green\">Game Over Widget</font>"
   ]
  },
  {
   "cell_type": "code",
   "execution_count": null,
   "metadata": {},
   "outputs": [],
   "source": [
    "final_msg = HTML(\"<h1 style='color:green' >You Win!</h1>\")\n",
    "final_msg"
   ]
  },
  {
   "cell_type": "code",
   "execution_count": null,
   "metadata": {},
   "outputs": [],
   "source": [
    "final_msg.layout.visibility = \"hidden\""
   ]
  },
  {
   "cell_type": "markdown",
   "metadata": {},
   "source": [
    "# Create <font color=\"orchid\">Game Box</font>"
   ]
  },
  {
   "cell_type": "code",
   "execution_count": null,
   "metadata": {},
   "outputs": [],
   "source": [
    "game_box = VBox([      HBox([ scoreboard, final_msg ]),\n",
    "                       arrow_btns      \n",
    "               ])"
   ]
  },
  {
   "cell_type": "markdown",
   "metadata": {},
   "source": [
    "# Update Game <font color=\"blue\">Function</font>"
   ]
  },
  {
   "cell_type": "code",
   "execution_count": null,
   "metadata": {},
   "outputs": [],
   "source": [
    "def update_game( usr_choice ):\n",
    "    try:\n",
    "        prob = sum( usr_past ) / len(usr_past)\n",
    "    except:\n",
    "        prob =  random()\n",
    "    comp_choice = np.random.binomial(1, prob  , 1)[0]\n",
    "    usr_past.append(usr_choice)\n",
    "\n",
    "    if comp_choice == usr_choice:\n",
    "        bot_score.value += 1\n",
    "    else:\n",
    "        you_score.value += 1\n",
    "\n",
    "    if you_score.value == 50 or bot_score.value == 50 :\n",
    "        if bot_score.value == 50:\n",
    "            final_msg.value= \"<h1 style='color:red' >You Loose!</h1>\"\n",
    "        final_msg.layout.visibility = \"visible\"\n",
    "        left_btn.disabled = True\n",
    "        right_btn.disabled = True"
   ]
  },
  {
   "cell_type": "markdown",
   "metadata": {},
   "source": [
    "# Play"
   ]
  },
  {
   "cell_type": "code",
   "execution_count": null,
   "metadata": {},
   "outputs": [],
   "source": [
    "def MindReader():\n",
    "    display( game_box )"
   ]
  }
 ],
 "metadata": {
  "hide_input": false,
  "kernelspec": {
   "display_name": "Python 3",
   "language": "python",
   "name": "python3"
  },
  "language_info": {
   "codemirror_mode": {
    "name": "ipython",
    "version": 3
   },
   "file_extension": ".py",
   "mimetype": "text/x-python",
   "name": "python",
   "nbconvert_exporter": "python",
   "pygments_lexer": "ipython3",
   "version": "3.6.6"
  },
  "toc": {
   "base_numbering": 1,
   "nav_menu": {},
   "number_sections": true,
   "sideBar": true,
   "skip_h1_title": false,
   "title_cell": "Table of Contents",
   "title_sidebar": "Contents",
   "toc_cell": false,
   "toc_position": {},
   "toc_section_display": true,
   "toc_window_display": false
  },
  "varInspector": {
   "cols": {
    "lenName": 16,
    "lenType": 16,
    "lenVar": 40
   },
   "kernels_config": {
    "python": {
     "delete_cmd_postfix": "",
     "delete_cmd_prefix": "del ",
     "library": "var_list.py",
     "varRefreshCmd": "print(var_dic_list())"
    },
    "r": {
     "delete_cmd_postfix": ") ",
     "delete_cmd_prefix": "rm(",
     "library": "var_list.r",
     "varRefreshCmd": "cat(var_dic_list()) "
    }
   },
   "types_to_exclude": [
    "module",
    "function",
    "builtin_function_or_method",
    "instance",
    "_Feature"
   ],
   "window_display": false
  },
  "widgets": {
   "application/vnd.jupyter.widget-state+json": {
    "state": {
     "00bcd6c28b66410192cc5eccfd0a7522": {
      "model_module": "@jupyter-widgets/base",
      "model_module_version": "1.0.0",
      "model_name": "LayoutModel",
      "state": {}
     },
     "015737e2079c4a3bbc4531462cdeec0d": {
      "model_module": "@jupyter-widgets/controls",
      "model_module_version": "1.2.0",
      "model_name": "IntProgressModel",
      "state": {
       "bar_style": "danger",
       "description": "Bot:",
       "layout": "IPY_MODEL_25e5e4e261e145c9bcd7dbbb892526e1",
       "max": 50,
       "style": "IPY_MODEL_73e016cfc15445e59cab62eb9e00f817",
       "value": 5
      }
     },
     "02f365034c634988a1b6aa1ac6e74e0a": {
      "model_module": "@jupyter-widgets/controls",
      "model_module_version": "1.2.0",
      "model_name": "ProgressStyleModel",
      "state": {
       "description_width": ""
      }
     },
     "0331383b27b6461087f6a01808bf4de2": {
      "model_module": "@jupyter-widgets/controls",
      "model_module_version": "1.2.0",
      "model_name": "IntProgressModel",
      "state": {
       "bar_style": "success",
       "description": "You:",
       "layout": "IPY_MODEL_4f2d70147374482d979ef29a7cdff322",
       "max": 50,
       "style": "IPY_MODEL_fc916c938ee14a169ba9ce1507894b99",
       "value": 4
      }
     },
     "06142a40a7554127a5ba4007f756a6aa": {
      "model_module": "@jupyter-widgets/controls",
      "model_module_version": "1.2.0",
      "model_name": "ButtonStyleModel",
      "state": {}
     },
     "06e7c4cf00014245949945dcc58b41b9": {
      "model_module": "@jupyter-widgets/base",
      "model_module_version": "1.0.0",
      "model_name": "LayoutModel",
      "state": {}
     },
     "0799724b062a4fcd82fb1e3b5d157537": {
      "model_module": "@jupyter-widgets/controls",
      "model_module_version": "1.2.0",
      "model_name": "HTMLModel",
      "state": {
       "layout": "IPY_MODEL_6585b661082b4c5b9912e7ff13695af3",
       "style": "IPY_MODEL_88e7f0b5efeb4147993d401451f2db83",
       "value": "<h1 style='color:red' >You Win!</h1>"
      }
     },
     "09597c6e673344d68cff00fdaa78e9ad": {
      "model_module": "@jupyter-widgets/base",
      "model_module_version": "1.0.0",
      "model_name": "LayoutModel",
      "state": {}
     },
     "096797d86fa94d44bf800df111ed9cd5": {
      "model_module": "@jupyter-widgets/base",
      "model_module_version": "1.0.0",
      "model_name": "LayoutModel",
      "state": {
       "visibility": "hidden"
      }
     },
     "09bfb34ec4514fd8bf4f177666718ee3": {
      "model_module": "@jupyter-widgets/controls",
      "model_module_version": "1.2.0",
      "model_name": "HTMLModel",
      "state": {
       "layout": "IPY_MODEL_88fa5c2900d9415c8e515ef90d36f0ef",
       "style": "IPY_MODEL_e55ed86d29fe407d88482345ef6951a8",
       "value": "<h1 style='color:green >You Win!</h1>"
      }
     },
     "0aba52cd7f8d4567831abc11fa412346": {
      "model_module": "@jupyter-widgets/controls",
      "model_module_version": "1.2.0",
      "model_name": "IntProgressModel",
      "state": {
       "bar_style": "success",
       "description": "You:",
       "layout": "IPY_MODEL_bc627bc6f7e04009b7744845344a0d64",
       "max": 50,
       "style": "IPY_MODEL_0be5e7557d2f47b38e9b99d67a9eb5d5",
       "value": 4
      }
     },
     "0be5e7557d2f47b38e9b99d67a9eb5d5": {
      "model_module": "@jupyter-widgets/controls",
      "model_module_version": "1.2.0",
      "model_name": "ProgressStyleModel",
      "state": {
       "description_width": ""
      }
     },
     "0be81afaa2b94c49ab07b9b61c86fb01": {
      "model_module": "@jupyter-widgets/controls",
      "model_module_version": "1.2.0",
      "model_name": "ProgressStyleModel",
      "state": {
       "description_width": ""
      }
     },
     "0d6085e6ead444c6bfb580312dc4f923": {
      "model_module": "@jupyter-widgets/controls",
      "model_module_version": "1.2.0",
      "model_name": "HBoxModel",
      "state": {
       "children": [
        "IPY_MODEL_15f0e4af73074651b4b31309b21eb0a8",
        "IPY_MODEL_0edf716bb51f40a999a083b098a0d647"
       ],
       "layout": "IPY_MODEL_a55877ba11044ac7b04e68b98f49fc70"
      }
     },
     "0edf716bb51f40a999a083b098a0d647": {
      "model_module": "@jupyter-widgets/controls",
      "model_module_version": "1.2.0",
      "model_name": "ButtonModel",
      "state": {
       "icon": "arrow-right",
       "layout": "IPY_MODEL_7d055c87ce2b46a1ab3ee2e5d97e633b",
       "style": "IPY_MODEL_82af0dca92d34124b4c4c42bf541803e"
      }
     },
     "1242533fe9964b68b66204b6bf665bc3": {
      "model_module": "@jupyter-widgets/base",
      "model_module_version": "1.0.0",
      "model_name": "LayoutModel",
      "state": {}
     },
     "125d36befe5f4508a4a701bbd2439636": {
      "model_module": "@jupyter-widgets/controls",
      "model_module_version": "1.2.0",
      "model_name": "ProgressStyleModel",
      "state": {
       "description_width": ""
      }
     },
     "1319268f75c6462c9037246cb7cf787b": {
      "model_module": "@jupyter-widgets/controls",
      "model_module_version": "1.2.0",
      "model_name": "IntProgressModel",
      "state": {
       "bar_style": "success",
       "description": "You:",
       "layout": "IPY_MODEL_31c27588b4c946d089cbed5cfe496a27",
       "max": 50,
       "style": "IPY_MODEL_125d36befe5f4508a4a701bbd2439636",
       "value": 4
      }
     },
     "13f33070b6ba443da4d14822255a5cfc": {
      "model_module": "@jupyter-widgets/controls",
      "model_module_version": "1.2.0",
      "model_name": "ButtonStyleModel",
      "state": {}
     },
     "158ffed108a84b089bf2723bfeb343d6": {
      "model_module": "@jupyter-widgets/controls",
      "model_module_version": "1.2.0",
      "model_name": "HBoxModel",
      "state": {
       "children": [
        "IPY_MODEL_c1859d2ea63845ddbe1a93653d6a5d7c",
        "IPY_MODEL_406430f383e0457b9d40eda60c7a7537"
       ],
       "layout": "IPY_MODEL_90e2b995d16541e18e254eaf00570bd0"
      }
     },
     "15f0e4af73074651b4b31309b21eb0a8": {
      "model_module": "@jupyter-widgets/controls",
      "model_module_version": "1.2.0",
      "model_name": "ButtonModel",
      "state": {
       "icon": "arrow-left",
       "layout": "IPY_MODEL_b99c161db33d42b48d275fb12dee01b4",
       "style": "IPY_MODEL_730e5c2aff8d4edcad22a79e046410cd"
      }
     },
     "1b6f3fb9db7349618c8332b82b88bc9e": {
      "model_module": "@jupyter-widgets/controls",
      "model_module_version": "1.2.0",
      "model_name": "ButtonModel",
      "state": {
       "disabled": true,
       "icon": "arrow-right",
       "layout": "IPY_MODEL_78eff9681f224c1a8e3558499213b7bc",
       "style": "IPY_MODEL_f236ee5608ef42c5a2aeae2f555098d1"
      }
     },
     "1d4fadfa94e5411785a3f918ed8b2a56": {
      "model_module": "@jupyter-widgets/base",
      "model_module_version": "1.0.0",
      "model_name": "LayoutModel",
      "state": {}
     },
     "1efd799cbe81433988dad242c0e5c9ff": {
      "model_module": "@jupyter-widgets/controls",
      "model_module_version": "1.2.0",
      "model_name": "VBoxModel",
      "state": {
       "children": [
        "IPY_MODEL_0331383b27b6461087f6a01808bf4de2",
        "IPY_MODEL_8743551273fd4091a89d771d9330758b"
       ],
       "layout": "IPY_MODEL_00bcd6c28b66410192cc5eccfd0a7522"
      }
     },
     "21591f14f7494c3cbfaf956207c28673": {
      "model_module": "@jupyter-widgets/base",
      "model_module_version": "1.0.0",
      "model_name": "LayoutModel",
      "state": {
       "visibility": "visible"
      }
     },
     "21fa9dc7184d4a23b61fc8a5b0b470d1": {
      "model_module": "@jupyter-widgets/base",
      "model_module_version": "1.0.0",
      "model_name": "LayoutModel",
      "state": {}
     },
     "2339dcf116f646c1a10b194e1f109979": {
      "model_module": "@jupyter-widgets/controls",
      "model_module_version": "1.2.0",
      "model_name": "ButtonStyleModel",
      "state": {}
     },
     "25a09c18e6e641e3a37233ce121bbbe2": {
      "model_module": "@jupyter-widgets/controls",
      "model_module_version": "1.2.0",
      "model_name": "HBoxModel",
      "state": {
       "children": [
        "IPY_MODEL_2e5bf01522824366bcd0101a45a99351",
        "IPY_MODEL_f877d5276ac14333b146c0b26abf691d"
       ],
       "layout": "IPY_MODEL_49d79d4c2a2043f895a564a24702a0f5"
      }
     },
     "25e5e4e261e145c9bcd7dbbb892526e1": {
      "model_module": "@jupyter-widgets/base",
      "model_module_version": "1.0.0",
      "model_name": "LayoutModel",
      "state": {}
     },
     "265a82045e214004a0f167201979ca42": {
      "model_module": "@jupyter-widgets/base",
      "model_module_version": "1.0.0",
      "model_name": "LayoutModel",
      "state": {}
     },
     "2699cbb4637148e69e8fd56a7f92ccb1": {
      "model_module": "@jupyter-widgets/base",
      "model_module_version": "1.0.0",
      "model_name": "LayoutModel",
      "state": {}
     },
     "26a13d680200499d9d91f201b565b6e6": {
      "model_module": "@jupyter-widgets/base",
      "model_module_version": "1.0.0",
      "model_name": "LayoutModel",
      "state": {}
     },
     "26a1c645c1944e5a8cfb2c0f35bb01e9": {
      "model_module": "@jupyter-widgets/controls",
      "model_module_version": "1.2.0",
      "model_name": "ButtonStyleModel",
      "state": {}
     },
     "26d3643fb80146b9b366d50c6a9c8159": {
      "model_module": "@jupyter-widgets/base",
      "model_module_version": "1.0.0",
      "model_name": "LayoutModel",
      "state": {}
     },
     "281ad968a88149629e5b5f74da38842b": {
      "model_module": "@jupyter-widgets/base",
      "model_module_version": "1.0.0",
      "model_name": "LayoutModel",
      "state": {}
     },
     "28c55d6a12ed414db671e59ad8d37a50": {
      "model_module": "@jupyter-widgets/controls",
      "model_module_version": "1.2.0",
      "model_name": "VBoxModel",
      "state": {
       "children": [
        "IPY_MODEL_a86dd648d8624721ade5d5dcbe56605d",
        "IPY_MODEL_015737e2079c4a3bbc4531462cdeec0d"
       ],
       "layout": "IPY_MODEL_26d3643fb80146b9b366d50c6a9c8159"
      }
     },
     "28db689ad0084257bbfa1c5f0bd55f85": {
      "model_module": "@jupyter-widgets/controls",
      "model_module_version": "1.2.0",
      "model_name": "ButtonModel",
      "state": {
       "disabled": true,
       "icon": "arrow-left",
       "layout": "IPY_MODEL_8bef384f46f54ecd8136708a8e907b91",
       "style": "IPY_MODEL_2339dcf116f646c1a10b194e1f109979"
      }
     },
     "2af9eba4b3c64afc9f565e094ddeb750": {
      "model_module": "@jupyter-widgets/controls",
      "model_module_version": "1.2.0",
      "model_name": "DescriptionStyleModel",
      "state": {
       "description_width": ""
      }
     },
     "2c98bfe4e82a44cbb4379f71e2ce3595": {
      "model_module": "@jupyter-widgets/controls",
      "model_module_version": "1.2.0",
      "model_name": "DescriptionStyleModel",
      "state": {
       "description_width": ""
      }
     },
     "2db705c9bbe84184a29c60d98482a3ab": {
      "model_module": "@jupyter-widgets/controls",
      "model_module_version": "1.2.0",
      "model_name": "DescriptionStyleModel",
      "state": {
       "description_width": ""
      }
     },
     "2e00985366e543d89390d220230cf114": {
      "model_module": "@jupyter-widgets/controls",
      "model_module_version": "1.2.0",
      "model_name": "VBoxModel",
      "state": {
       "children": [
        "IPY_MODEL_815a686583b749b694477694fd8b57f1",
        "IPY_MODEL_cc5317c21b60432d99c30d65584a750a"
       ],
       "layout": "IPY_MODEL_09597c6e673344d68cff00fdaa78e9ad"
      }
     },
     "2e533ef9e4934a8cb276004bfb9f8f0e": {
      "model_module": "@jupyter-widgets/controls",
      "model_module_version": "1.2.0",
      "model_name": "HTMLModel",
      "state": {
       "layout": "IPY_MODEL_51b28f55d0884dd381be1356576f86a8",
       "style": "IPY_MODEL_4f6d4157419648dba2fdeca1a4614b0a",
       "value": "howdy"
      }
     },
     "2e5bf01522824366bcd0101a45a99351": {
      "model_module": "@jupyter-widgets/controls",
      "model_module_version": "1.2.0",
      "model_name": "VBoxModel",
      "state": {
       "children": [
        "IPY_MODEL_32f50093ee744843838085fe08fedd66",
        "IPY_MODEL_9da3779537df4d37a2a3c0d16a769e7b"
       ],
       "layout": "IPY_MODEL_6c62a8d10676469ca649ca6bba00c1d5"
      }
     },
     "2f7083ee9e704fefbfa1f29a9ea8815e": {
      "model_module": "@jupyter-widgets/controls",
      "model_module_version": "1.2.0",
      "model_name": "ButtonModel",
      "state": {
       "icon": "left-arrow",
       "layout": "IPY_MODEL_ba0de53d7cb4443692677db993b9a501",
       "style": "IPY_MODEL_c5d86f684ce649aeb50bab229ab75eee"
      }
     },
     "30014a78dd76406fa50d1f77661b4268": {
      "model_module": "@jupyter-widgets/controls",
      "model_module_version": "1.2.0",
      "model_name": "ButtonModel",
      "state": {
       "icon": "arrow-left",
       "layout": "IPY_MODEL_313fc7b2a57a4ee7bd59dc3edaafbb7e",
       "style": "IPY_MODEL_60ae734576be405eabafd528e7d05833"
      }
     },
     "307a8ad406bf4840aa5e8252f8a12af2": {
      "model_module": "@jupyter-widgets/controls",
      "model_module_version": "1.2.0",
      "model_name": "ButtonModel",
      "state": {
       "icon": "arrow-right",
       "layout": "IPY_MODEL_681f288cb9d14ae0afab892c9a5236f5",
       "style": "IPY_MODEL_fe0d1bd750fe4d869df4414747f3823a"
      }
     },
     "309b9635714e4a5da0e99b89f58a20a5": {
      "model_module": "@jupyter-widgets/controls",
      "model_module_version": "1.2.0",
      "model_name": "HTMLModel",
      "state": {
       "layout": "IPY_MODEL_8c98438dec704179920cb2a55e6393b3",
       "style": "IPY_MODEL_7807fb522a454cd6a5890008fcf06ca6",
       "value": "<h1 style='color:green' >You Win!</h1>"
      }
     },
     "313f82c4ddec42db834b1fc5d880b835": {
      "model_module": "@jupyter-widgets/base",
      "model_module_version": "1.0.0",
      "model_name": "LayoutModel",
      "state": {}
     },
     "313fc7b2a57a4ee7bd59dc3edaafbb7e": {
      "model_module": "@jupyter-widgets/base",
      "model_module_version": "1.0.0",
      "model_name": "LayoutModel",
      "state": {}
     },
     "31c27588b4c946d089cbed5cfe496a27": {
      "model_module": "@jupyter-widgets/base",
      "model_module_version": "1.0.0",
      "model_name": "LayoutModel",
      "state": {}
     },
     "3210f39736cb42aba738a685a0a8ecf3": {
      "model_module": "@jupyter-widgets/controls",
      "model_module_version": "1.2.0",
      "model_name": "ButtonModel",
      "state": {
       "icon": "arrow-left",
       "layout": "IPY_MODEL_6f6f597f5b6244aabddda6dac1fa14d1",
       "style": "IPY_MODEL_760b4e27b2c94f3ca160fcb6af6434bd"
      }
     },
     "32f50093ee744843838085fe08fedd66": {
      "model_module": "@jupyter-widgets/controls",
      "model_module_version": "1.2.0",
      "model_name": "IntProgressModel",
      "state": {
       "bar_style": "success",
       "description": "You:",
       "layout": "IPY_MODEL_b172742b679d4c74aa5bfc70b539e7bc",
       "max": 50,
       "style": "IPY_MODEL_97980f72d2964ace950bd039f060b056",
       "value": 50
      }
     },
     "34352daa8bbd4d9583b109634ab66663": {
      "model_module": "@jupyter-widgets/base",
      "model_module_version": "1.0.0",
      "model_name": "LayoutModel",
      "state": {
       "visibility": "hidden"
      }
     },
     "3735434c1aaf4062b3feaa3e7d0f173c": {
      "model_module": "@jupyter-widgets/controls",
      "model_module_version": "1.2.0",
      "model_name": "ProgressStyleModel",
      "state": {
       "description_width": ""
      }
     },
     "380f1a59dd734805b0db91a148ed979a": {
      "model_module": "@jupyter-widgets/controls",
      "model_module_version": "1.2.0",
      "model_name": "VBoxModel",
      "state": {
       "children": [
        "IPY_MODEL_158ffed108a84b089bf2723bfeb343d6",
        "IPY_MODEL_c4decd2d4e844b2eac114f8c177f4209"
       ],
       "layout": "IPY_MODEL_385aad77e40f46c3a437c69605b7d8fe"
      }
     },
     "385aad77e40f46c3a437c69605b7d8fe": {
      "model_module": "@jupyter-widgets/base",
      "model_module_version": "1.0.0",
      "model_name": "LayoutModel",
      "state": {}
     },
     "38e62908bc1846f58c05084456490244": {
      "model_module": "@jupyter-widgets/controls",
      "model_module_version": "1.2.0",
      "model_name": "IntProgressModel",
      "state": {
       "bar_style": "success",
       "description": "You:",
       "layout": "IPY_MODEL_7c314dd1d92b43dd95faee9eadd9e059",
       "max": 50,
       "style": "IPY_MODEL_dc7586a3bbde41bebf052c13171ae121",
       "value": 49
      }
     },
     "3d2c2fc07b074b80a6058acaa0dc3a9a": {
      "model_module": "@jupyter-widgets/controls",
      "model_module_version": "1.2.0",
      "model_name": "ButtonStyleModel",
      "state": {}
     },
     "3f5dfc058453475caf95265f4cb27782": {
      "model_module": "@jupyter-widgets/controls",
      "model_module_version": "1.2.0",
      "model_name": "HBoxModel",
      "state": {
       "children": [
        "IPY_MODEL_88dcbfb67de445929b30950262f7f117",
        "IPY_MODEL_b3f2327cab2f4d428744bb9dcad72341"
       ],
       "layout": "IPY_MODEL_be9c4f509a6c44a9af6b70fd5f3e4344"
      }
     },
     "405f0761105b48c889b36cfe68920249": {
      "model_module": "@jupyter-widgets/controls",
      "model_module_version": "1.2.0",
      "model_name": "ButtonStyleModel",
      "state": {}
     },
     "406430f383e0457b9d40eda60c7a7537": {
      "model_module": "@jupyter-widgets/controls",
      "model_module_version": "1.2.0",
      "model_name": "HTMLModel",
      "state": {
       "layout": "IPY_MODEL_21591f14f7494c3cbfaf956207c28673",
       "style": "IPY_MODEL_aa7f89f311c04740b7755073e4406fbc",
       "value": "<h1 style='color:red' >You Loose!</h1>"
      }
     },
     "410288e6d7704ee5994de4d26b65714c": {
      "model_module": "@jupyter-widgets/base",
      "model_module_version": "1.0.0",
      "model_name": "LayoutModel",
      "state": {}
     },
     "447e4fa0306142d796596ec12563f72d": {
      "model_module": "@jupyter-widgets/controls",
      "model_module_version": "1.2.0",
      "model_name": "ButtonModel",
      "state": {
       "icon": "arrow-left",
       "layout": "IPY_MODEL_91034c55d31441879b047eff361cdfb6",
       "style": "IPY_MODEL_eaec6a47954a414789b879c5c4bc5e92"
      }
     },
     "46291703dd7e4fc281bcfc64f91148af": {
      "model_module": "@jupyter-widgets/base",
      "model_module_version": "1.0.0",
      "model_name": "LayoutModel",
      "state": {}
     },
     "49d79d4c2a2043f895a564a24702a0f5": {
      "model_module": "@jupyter-widgets/base",
      "model_module_version": "1.0.0",
      "model_name": "LayoutModel",
      "state": {}
     },
     "4f2d70147374482d979ef29a7cdff322": {
      "model_module": "@jupyter-widgets/base",
      "model_module_version": "1.0.0",
      "model_name": "LayoutModel",
      "state": {}
     },
     "4f6d4157419648dba2fdeca1a4614b0a": {
      "model_module": "@jupyter-widgets/controls",
      "model_module_version": "1.2.0",
      "model_name": "DescriptionStyleModel",
      "state": {
       "description_width": ""
      }
     },
     "5044ffc7b2a0481a839bc89f6f49ffa5": {
      "model_module": "@jupyter-widgets/controls",
      "model_module_version": "1.2.0",
      "model_name": "VBoxModel",
      "state": {
       "children": [
        "IPY_MODEL_25a09c18e6e641e3a37233ce121bbbe2",
        "IPY_MODEL_bb0e127fbc114a2eb01e295a3567f09d"
       ],
       "layout": "IPY_MODEL_281ad968a88149629e5b5f74da38842b"
      }
     },
     "51a2eca6f0cd4cab991c7ca8a93e107a": {
      "model_module": "@jupyter-widgets/controls",
      "model_module_version": "1.2.0",
      "model_name": "ButtonModel",
      "state": {
       "icon": "check",
       "layout": "IPY_MODEL_54b4946c6d484e33843f0bfd642e9389",
       "style": "IPY_MODEL_9d58b4b5e9304ba4ad7804bcf0b8930f"
      }
     },
     "51b28f55d0884dd381be1356576f86a8": {
      "model_module": "@jupyter-widgets/base",
      "model_module_version": "1.0.0",
      "model_name": "LayoutModel",
      "state": {}
     },
     "51c59e3c84d147b8a4426837d2b3486d": {
      "model_module": "@jupyter-widgets/controls",
      "model_module_version": "1.2.0",
      "model_name": "ProgressStyleModel",
      "state": {
       "description_width": ""
      }
     },
     "5254a936ce2246e4a19e77f97a66eee7": {
      "model_module": "@jupyter-widgets/base",
      "model_module_version": "1.0.0",
      "model_name": "LayoutModel",
      "state": {}
     },
     "52f409f9cb864ff290573fb0b6d0ba16": {
      "model_module": "@jupyter-widgets/controls",
      "model_module_version": "1.2.0",
      "model_name": "IntProgressModel",
      "state": {
       "bar_style": "danger",
       "description": "Bot:",
       "layout": "IPY_MODEL_f02b30ad3f944a918d1bd1174444e396",
       "max": 50,
       "style": "IPY_MODEL_02f365034c634988a1b6aa1ac6e74e0a"
      }
     },
     "540036991abc458fba4885038f27ed66": {
      "model_module": "@jupyter-widgets/base",
      "model_module_version": "1.0.0",
      "model_name": "LayoutModel",
      "state": {}
     },
     "54b4946c6d484e33843f0bfd642e9389": {
      "model_module": "@jupyter-widgets/base",
      "model_module_version": "1.0.0",
      "model_name": "LayoutModel",
      "state": {}
     },
     "56497771e2284451816ff2407cff0c0f": {
      "model_module": "@jupyter-widgets/controls",
      "model_module_version": "1.2.0",
      "model_name": "HTMLModel",
      "state": {
       "layout": "IPY_MODEL_9c910673989e47578f1b69fc9ff6c1db",
       "style": "IPY_MODEL_f44f51d8d8fb492da7345342a93ec1f7",
       "value": "<h1 color='red' >You Win!</h1>"
      }
     },
     "569e03cd6945412689ec25e138c48230": {
      "model_module": "@jupyter-widgets/controls",
      "model_module_version": "1.2.0",
      "model_name": "ProgressStyleModel",
      "state": {
       "description_width": ""
      }
     },
     "5a3d40dda89c4a3ea9c8ef305c05d905": {
      "model_module": "@jupyter-widgets/controls",
      "model_module_version": "1.2.0",
      "model_name": "DescriptionStyleModel",
      "state": {
       "description_width": ""
      }
     },
     "5a5012fa584a4b8b8945798e802abfec": {
      "model_module": "@jupyter-widgets/controls",
      "model_module_version": "1.2.0",
      "model_name": "ProgressStyleModel",
      "state": {
       "description_width": ""
      }
     },
     "5d4071cd7f0947d9b1f723d184d0328d": {
      "model_module": "@jupyter-widgets/base",
      "model_module_version": "1.0.0",
      "model_name": "LayoutModel",
      "state": {}
     },
     "60ae734576be405eabafd528e7d05833": {
      "model_module": "@jupyter-widgets/controls",
      "model_module_version": "1.2.0",
      "model_name": "ButtonStyleModel",
      "state": {}
     },
     "60aeb3ed774b44ac9299ed40d45e845b": {
      "model_module": "@jupyter-widgets/controls",
      "model_module_version": "1.2.0",
      "model_name": "HBoxModel",
      "state": {
       "children": [
        "IPY_MODEL_f8c05a9d309045faa605aa91ea622a83",
        "IPY_MODEL_a6bf29c7d303439a92180bebb7dcf64b"
       ],
       "layout": "IPY_MODEL_a4d19eb4eb6246f382512b83894a3b53"
      }
     },
     "6116512067c94dd593f6bc5d4e7c4937": {
      "model_module": "@jupyter-widgets/base",
      "model_module_version": "1.0.0",
      "model_name": "LayoutModel",
      "state": {}
     },
     "6585b661082b4c5b9912e7ff13695af3": {
      "model_module": "@jupyter-widgets/base",
      "model_module_version": "1.0.0",
      "model_name": "LayoutModel",
      "state": {}
     },
     "681f288cb9d14ae0afab892c9a5236f5": {
      "model_module": "@jupyter-widgets/base",
      "model_module_version": "1.0.0",
      "model_name": "LayoutModel",
      "state": {}
     },
     "686ef0ae59d04474b0ead3b30efb46a0": {
      "model_module": "@jupyter-widgets/controls",
      "model_module_version": "1.2.0",
      "model_name": "DescriptionStyleModel",
      "state": {
       "description_width": ""
      }
     },
     "6c62a8d10676469ca649ca6bba00c1d5": {
      "model_module": "@jupyter-widgets/base",
      "model_module_version": "1.0.0",
      "model_name": "LayoutModel",
      "state": {}
     },
     "6f6f597f5b6244aabddda6dac1fa14d1": {
      "model_module": "@jupyter-widgets/base",
      "model_module_version": "1.0.0",
      "model_name": "LayoutModel",
      "state": {}
     },
     "71303c2efac34754bcf07ac253127db2": {
      "model_module": "@jupyter-widgets/controls",
      "model_module_version": "1.2.0",
      "model_name": "ProgressStyleModel",
      "state": {
       "description_width": ""
      }
     },
     "730e5c2aff8d4edcad22a79e046410cd": {
      "model_module": "@jupyter-widgets/controls",
      "model_module_version": "1.2.0",
      "model_name": "ButtonStyleModel",
      "state": {}
     },
     "73e016cfc15445e59cab62eb9e00f817": {
      "model_module": "@jupyter-widgets/controls",
      "model_module_version": "1.2.0",
      "model_name": "ProgressStyleModel",
      "state": {
       "description_width": ""
      }
     },
     "760b4e27b2c94f3ca160fcb6af6434bd": {
      "model_module": "@jupyter-widgets/controls",
      "model_module_version": "1.2.0",
      "model_name": "ButtonStyleModel",
      "state": {}
     },
     "7807fb522a454cd6a5890008fcf06ca6": {
      "model_module": "@jupyter-widgets/controls",
      "model_module_version": "1.2.0",
      "model_name": "DescriptionStyleModel",
      "state": {
       "description_width": ""
      }
     },
     "78eff9681f224c1a8e3558499213b7bc": {
      "model_module": "@jupyter-widgets/base",
      "model_module_version": "1.0.0",
      "model_name": "LayoutModel",
      "state": {}
     },
     "7b8688b927c64b94b1c851c0c52874f7": {
      "model_module": "@jupyter-widgets/controls",
      "model_module_version": "1.2.0",
      "model_name": "HBoxModel",
      "state": {
       "children": [
        "IPY_MODEL_b3d7d3b2fc3f4eae8259d0f0500ec053",
        "IPY_MODEL_9d3366f68bcd4220bb15a93ab9690686"
       ],
       "layout": "IPY_MODEL_dac3c146eec94f6699078888c1313236"
      }
     },
     "7c314dd1d92b43dd95faee9eadd9e059": {
      "model_module": "@jupyter-widgets/base",
      "model_module_version": "1.0.0",
      "model_name": "LayoutModel",
      "state": {}
     },
     "7d055c87ce2b46a1ab3ee2e5d97e633b": {
      "model_module": "@jupyter-widgets/base",
      "model_module_version": "1.0.0",
      "model_name": "LayoutModel",
      "state": {}
     },
     "815a686583b749b694477694fd8b57f1": {
      "model_module": "@jupyter-widgets/controls",
      "model_module_version": "1.2.0",
      "model_name": "HBoxModel",
      "state": {
       "children": [
        "IPY_MODEL_ae192fceaff2446d920d40a8548275e1",
        "IPY_MODEL_d43bdb158d9e4286bebd4e07f6f7a972"
       ],
       "layout": "IPY_MODEL_1242533fe9964b68b66204b6bf665bc3"
      }
     },
     "82af0dca92d34124b4c4c42bf541803e": {
      "model_module": "@jupyter-widgets/controls",
      "model_module_version": "1.2.0",
      "model_name": "ButtonStyleModel",
      "state": {}
     },
     "8743551273fd4091a89d771d9330758b": {
      "model_module": "@jupyter-widgets/controls",
      "model_module_version": "1.2.0",
      "model_name": "IntProgressModel",
      "state": {
       "bar_style": "danger",
       "description": "Bot:",
       "layout": "IPY_MODEL_e81e1847717440bb8f08f7b0f52fd818",
       "max": 50,
       "style": "IPY_MODEL_5a5012fa584a4b8b8945798e802abfec",
       "value": 5
      }
     },
     "88dcbfb67de445929b30950262f7f117": {
      "model_module": "@jupyter-widgets/controls",
      "model_module_version": "1.2.0",
      "model_name": "ButtonModel",
      "state": {
       "icon": "arrow-left",
       "layout": "IPY_MODEL_6116512067c94dd593f6bc5d4e7c4937",
       "style": "IPY_MODEL_ab033d7af63440a391c63f96f43376dd"
      }
     },
     "88e7f0b5efeb4147993d401451f2db83": {
      "model_module": "@jupyter-widgets/controls",
      "model_module_version": "1.2.0",
      "model_name": "DescriptionStyleModel",
      "state": {
       "description_width": ""
      }
     },
     "88fa5c2900d9415c8e515ef90d36f0ef": {
      "model_module": "@jupyter-widgets/base",
      "model_module_version": "1.0.0",
      "model_name": "LayoutModel",
      "state": {}
     },
     "89b3f9729fa447b58455402cf0e1be29": {
      "model_module": "@jupyter-widgets/controls",
      "model_module_version": "1.2.0",
      "model_name": "DescriptionStyleModel",
      "state": {
       "description_width": ""
      }
     },
     "8ac15a55106f4a48ae47224c812d6319": {
      "model_module": "@jupyter-widgets/controls",
      "model_module_version": "1.2.0",
      "model_name": "VBoxModel",
      "state": {
       "children": [
        "IPY_MODEL_ae2ffff1fa7c41a790760920bf4e1cce",
        "IPY_MODEL_bb0e127fbc114a2eb01e295a3567f09d"
       ],
       "layout": "IPY_MODEL_d56931a0df3c4e02b285eb97568fba2e"
      }
     },
     "8bef384f46f54ecd8136708a8e907b91": {
      "model_module": "@jupyter-widgets/base",
      "model_module_version": "1.0.0",
      "model_name": "LayoutModel",
      "state": {}
     },
     "8c7cb4e53ad545698b29bd1c7e2ce5b8": {
      "model_module": "@jupyter-widgets/base",
      "model_module_version": "1.0.0",
      "model_name": "LayoutModel",
      "state": {}
     },
     "8c98438dec704179920cb2a55e6393b3": {
      "model_module": "@jupyter-widgets/base",
      "model_module_version": "1.0.0",
      "model_name": "LayoutModel",
      "state": {}
     },
     "8dd2979f30ba47e0af836e06afc70909": {
      "model_module": "@jupyter-widgets/controls",
      "model_module_version": "1.2.0",
      "model_name": "VBoxModel",
      "state": {
       "children": [
        "IPY_MODEL_91a9e93f6bd3473b8d30f336b0b07310",
        "IPY_MODEL_c4decd2d4e844b2eac114f8c177f4209"
       ],
       "layout": "IPY_MODEL_ade2c1b8816642d2aec0e00bd346d8a0"
      }
     },
     "8e94475268e045fa8528e400cd8ad30e": {
      "model_module": "@jupyter-widgets/controls",
      "model_module_version": "1.2.0",
      "model_name": "DescriptionStyleModel",
      "state": {
       "description_width": ""
      }
     },
     "90e2b995d16541e18e254eaf00570bd0": {
      "model_module": "@jupyter-widgets/base",
      "model_module_version": "1.0.0",
      "model_name": "LayoutModel",
      "state": {}
     },
     "91034c55d31441879b047eff361cdfb6": {
      "model_module": "@jupyter-widgets/base",
      "model_module_version": "1.0.0",
      "model_name": "LayoutModel",
      "state": {}
     },
     "91a9e93f6bd3473b8d30f336b0b07310": {
      "model_module": "@jupyter-widgets/controls",
      "model_module_version": "1.2.0",
      "model_name": "HBoxModel",
      "state": {
       "children": [
        "IPY_MODEL_c1859d2ea63845ddbe1a93653d6a5d7c",
        "IPY_MODEL_406430f383e0457b9d40eda60c7a7537"
       ],
       "layout": "IPY_MODEL_fb7c881bb6ea4289aaccc665827230e5"
      }
     },
     "923aa3eb063b4915804d2cbd37cb9582": {
      "model_module": "@jupyter-widgets/controls",
      "model_module_version": "1.2.0",
      "model_name": "ButtonStyleModel",
      "state": {}
     },
     "92fc8552521642ba9dea70a2ecd5fa5c": {
      "model_module": "@jupyter-widgets/base",
      "model_module_version": "1.0.0",
      "model_name": "LayoutModel",
      "state": {}
     },
     "978b204d28b348ae9d9342a1adf5ea54": {
      "model_module": "@jupyter-widgets/base",
      "model_module_version": "1.0.0",
      "model_name": "LayoutModel",
      "state": {}
     },
     "97980f72d2964ace950bd039f060b056": {
      "model_module": "@jupyter-widgets/controls",
      "model_module_version": "1.2.0",
      "model_name": "ProgressStyleModel",
      "state": {
       "description_width": ""
      }
     },
     "9887f650d5c446169889a4ddd6e60b48": {
      "model_module": "@jupyter-widgets/controls",
      "model_module_version": "1.2.0",
      "model_name": "ProgressStyleModel",
      "state": {
       "description_width": ""
      }
     },
     "99eb1b3c7bc64062ba2e0eeb0ca83e63": {
      "model_module": "@jupyter-widgets/base",
      "model_module_version": "1.0.0",
      "model_name": "LayoutModel",
      "state": {}
     },
     "9c910673989e47578f1b69fc9ff6c1db": {
      "model_module": "@jupyter-widgets/base",
      "model_module_version": "1.0.0",
      "model_name": "LayoutModel",
      "state": {}
     },
     "9d062b91707c4582bed4266d70207ee1": {
      "model_module": "@jupyter-widgets/controls",
      "model_module_version": "1.2.0",
      "model_name": "HBoxModel",
      "state": {
       "children": [
        "IPY_MODEL_30014a78dd76406fa50d1f77661b4268",
        "IPY_MODEL_ffcf78d2ca034702b9e2216444bd60b6"
       ],
       "layout": "IPY_MODEL_ff89acddffc84635ab1d2c4e2cecdaeb"
      }
     },
     "9d3366f68bcd4220bb15a93ab9690686": {
      "model_module": "@jupyter-widgets/controls",
      "model_module_version": "1.2.0",
      "model_name": "ButtonModel",
      "state": {
       "icon": "arrow-right",
       "layout": "IPY_MODEL_1d4fadfa94e5411785a3f918ed8b2a56",
       "style": "IPY_MODEL_c0eeaeac6cca4be983125f3d60fc52dd"
      }
     },
     "9d58b4b5e9304ba4ad7804bcf0b8930f": {
      "model_module": "@jupyter-widgets/controls",
      "model_module_version": "1.2.0",
      "model_name": "ButtonStyleModel",
      "state": {}
     },
     "9da3779537df4d37a2a3c0d16a769e7b": {
      "model_module": "@jupyter-widgets/controls",
      "model_module_version": "1.2.0",
      "model_name": "IntProgressModel",
      "state": {
       "bar_style": "danger",
       "description": "Bot:",
       "layout": "IPY_MODEL_bf910a1c1f37477690789a28b156397f",
       "max": 50,
       "style": "IPY_MODEL_0be81afaa2b94c49ab07b9b61c86fb01",
       "value": 50
      }
     },
     "9e18084e0bbf4ba7bbe75667b119dd31": {
      "model_module": "@jupyter-widgets/base",
      "model_module_version": "1.0.0",
      "model_name": "LayoutModel",
      "state": {}
     },
     "9fe9a54f3a914e8c9ec18bb4abc2b586": {
      "model_module": "@jupyter-widgets/base",
      "model_module_version": "1.0.0",
      "model_name": "LayoutModel",
      "state": {}
     },
     "a0251fc96c07493995f16d25c5a485ca": {
      "model_module": "@jupyter-widgets/controls",
      "model_module_version": "1.2.0",
      "model_name": "IntProgressModel",
      "state": {
       "bar_style": "success",
       "description": "You:",
       "layout": "IPY_MODEL_9fe9a54f3a914e8c9ec18bb4abc2b586",
       "max": 50,
       "style": "IPY_MODEL_3735434c1aaf4062b3feaa3e7d0f173c"
      }
     },
     "a14dc5ec08e649769f76debf3681e010": {
      "model_module": "@jupyter-widgets/base",
      "model_module_version": "1.0.0",
      "model_name": "LayoutModel",
      "state": {
       "visibility": "hidden"
      }
     },
     "a39c7dbcaf8741f8a5e9d53950c915ce": {
      "model_module": "@jupyter-widgets/controls",
      "model_module_version": "1.2.0",
      "model_name": "ButtonModel",
      "state": {
       "icon": "arrow-right",
       "layout": "IPY_MODEL_e51f4ebb2e974df4be0dcd8998ebc4cf",
       "style": "IPY_MODEL_ad3baf4250e241a9bf2dd056eba02619"
      }
     },
     "a4d19eb4eb6246f382512b83894a3b53": {
      "model_module": "@jupyter-widgets/base",
      "model_module_version": "1.0.0",
      "model_name": "LayoutModel",
      "state": {}
     },
     "a55877ba11044ac7b04e68b98f49fc70": {
      "model_module": "@jupyter-widgets/base",
      "model_module_version": "1.0.0",
      "model_name": "LayoutModel",
      "state": {}
     },
     "a5680cd7ecd14c0490aae77fd8bb2d8e": {
      "model_module": "@jupyter-widgets/controls",
      "model_module_version": "1.2.0",
      "model_name": "ButtonStyleModel",
      "state": {}
     },
     "a6bf29c7d303439a92180bebb7dcf64b": {
      "model_module": "@jupyter-widgets/controls",
      "model_module_version": "1.2.0",
      "model_name": "ButtonModel",
      "state": {
       "icon": "right",
       "layout": "IPY_MODEL_c96ef29e78ac4e15abcd97ac58a45e04",
       "style": "IPY_MODEL_a75e447578cd4d8d8fba6eb1c452193d"
      }
     },
     "a75e447578cd4d8d8fba6eb1c452193d": {
      "model_module": "@jupyter-widgets/controls",
      "model_module_version": "1.2.0",
      "model_name": "ButtonStyleModel",
      "state": {}
     },
     "a77b64b24e824c8190e06cbb0ce8b6e2": {
      "model_module": "@jupyter-widgets/base",
      "model_module_version": "1.0.0",
      "model_name": "LayoutModel",
      "state": {}
     },
     "a86dd648d8624721ade5d5dcbe56605d": {
      "model_module": "@jupyter-widgets/controls",
      "model_module_version": "1.2.0",
      "model_name": "IntProgressModel",
      "state": {
       "bar_style": "success",
       "description": "You:",
       "layout": "IPY_MODEL_46291703dd7e4fc281bcfc64f91148af",
       "max": 50,
       "style": "IPY_MODEL_da15c93ff26e4499b1b9e1b7e2433042",
       "value": 4
      }
     },
     "a973005c3ad94be3bf4c127c37980b32": {
      "model_module": "@jupyter-widgets/controls",
      "model_module_version": "1.2.0",
      "model_name": "IntProgressModel",
      "state": {
       "bar_style": "danger",
       "description": "Bot:",
       "layout": "IPY_MODEL_fc480240b40242788f3b982c06e9d17d",
       "max": 50,
       "style": "IPY_MODEL_71303c2efac34754bcf07ac253127db2",
       "value": 5
      }
     },
     "aa7f89f311c04740b7755073e4406fbc": {
      "model_module": "@jupyter-widgets/controls",
      "model_module_version": "1.2.0",
      "model_name": "DescriptionStyleModel",
      "state": {
       "description_width": ""
      }
     },
     "ab033d7af63440a391c63f96f43376dd": {
      "model_module": "@jupyter-widgets/controls",
      "model_module_version": "1.2.0",
      "model_name": "ButtonStyleModel",
      "state": {}
     },
     "ab269a68656e4017af9ca371b7e4f501": {
      "model_module": "@jupyter-widgets/controls",
      "model_module_version": "1.2.0",
      "model_name": "IntProgressModel",
      "state": {
       "bar_style": "warning",
       "description": "Bot:",
       "layout": "IPY_MODEL_e06da02ce4384ed98c0380cd0c8f4de5",
       "max": 50,
       "style": "IPY_MODEL_bdf0b5b907304fdfa96bce6455431ada",
       "value": 5
      }
     },
     "ad3baf4250e241a9bf2dd056eba02619": {
      "model_module": "@jupyter-widgets/controls",
      "model_module_version": "1.2.0",
      "model_name": "ButtonStyleModel",
      "state": {}
     },
     "ade2c1b8816642d2aec0e00bd346d8a0": {
      "model_module": "@jupyter-widgets/base",
      "model_module_version": "1.0.0",
      "model_name": "LayoutModel",
      "state": {}
     },
     "ae192fceaff2446d920d40a8548275e1": {
      "model_module": "@jupyter-widgets/controls",
      "model_module_version": "1.2.0",
      "model_name": "VBoxModel",
      "state": {
       "children": [
        "IPY_MODEL_a0251fc96c07493995f16d25c5a485ca",
        "IPY_MODEL_bd469331fdf9458687ae3d3e3b494edb"
       ],
       "layout": "IPY_MODEL_26a13d680200499d9d91f201b565b6e6"
      }
     },
     "ae2ffff1fa7c41a790760920bf4e1cce": {
      "model_module": "@jupyter-widgets/controls",
      "model_module_version": "1.2.0",
      "model_name": "HBoxModel",
      "state": {
       "children": [
        "IPY_MODEL_2e5bf01522824366bcd0101a45a99351",
        "IPY_MODEL_f877d5276ac14333b146c0b26abf691d"
       ],
       "layout": "IPY_MODEL_5d4071cd7f0947d9b1f723d184d0328d"
      }
     },
     "aebe43d0029943a998ca7f966ea58f59": {
      "model_module": "@jupyter-widgets/controls",
      "model_module_version": "1.2.0",
      "model_name": "ButtonStyleModel",
      "state": {}
     },
     "afaf5e6363854fcb9a60c1c0a84e817c": {
      "model_module": "@jupyter-widgets/controls",
      "model_module_version": "1.2.0",
      "model_name": "ButtonModel",
      "state": {
       "icon": "check",
       "layout": "IPY_MODEL_21fa9dc7184d4a23b61fc8a5b0b470d1",
       "style": "IPY_MODEL_de9d767b9abf4b4cadadf9bd8ea48e96"
      }
     },
     "b172742b679d4c74aa5bfc70b539e7bc": {
      "model_module": "@jupyter-widgets/base",
      "model_module_version": "1.0.0",
      "model_name": "LayoutModel",
      "state": {}
     },
     "b3c83aba03114d02bb7736d5e675f654": {
      "model_module": "@jupyter-widgets/base",
      "model_module_version": "1.0.0",
      "model_name": "LayoutModel",
      "state": {
       "visibility": "hidden"
      }
     },
     "b3d7d3b2fc3f4eae8259d0f0500ec053": {
      "model_module": "@jupyter-widgets/controls",
      "model_module_version": "1.2.0",
      "model_name": "ButtonModel",
      "state": {
       "icon": "arrow-left",
       "layout": "IPY_MODEL_978b204d28b348ae9d9342a1adf5ea54",
       "style": "IPY_MODEL_fa9cd853da3c4c29902be35690195f27"
      }
     },
     "b3f2327cab2f4d428744bb9dcad72341": {
      "model_module": "@jupyter-widgets/controls",
      "model_module_version": "1.2.0",
      "model_name": "ButtonModel",
      "state": {
       "icon": "arrow-right",
       "layout": "IPY_MODEL_c91ac656a1dd4cdea0289d6daae21878",
       "style": "IPY_MODEL_e7c0bbdb1caf48cba80814af87ba820b"
      }
     },
     "b73e3b38d31d44b7a71eae6107c5b94f": {
      "model_module": "@jupyter-widgets/controls",
      "model_module_version": "1.2.0",
      "model_name": "HTMLModel",
      "state": {
       "layout": "IPY_MODEL_b9057bcc7e4149dcba16f458599ee7eb",
       "style": "IPY_MODEL_2af9eba4b3c64afc9f565e094ddeb750",
       "value": "<h1 style='color:green' >You Win!</h1>"
      }
     },
     "b84f77384d624f1ba76be5e2ffb4f969": {
      "model_module": "@jupyter-widgets/controls",
      "model_module_version": "1.2.0",
      "model_name": "ProgressStyleModel",
      "state": {
       "description_width": ""
      }
     },
     "b9057bcc7e4149dcba16f458599ee7eb": {
      "model_module": "@jupyter-widgets/base",
      "model_module_version": "1.0.0",
      "model_name": "LayoutModel",
      "state": {
       "visibility": "hidden"
      }
     },
     "b99c161db33d42b48d275fb12dee01b4": {
      "model_module": "@jupyter-widgets/base",
      "model_module_version": "1.0.0",
      "model_name": "LayoutModel",
      "state": {}
     },
     "ba05da7b954545b58775f4b61416ff38": {
      "model_module": "@jupyter-widgets/controls",
      "model_module_version": "1.2.0",
      "model_name": "HBoxModel",
      "state": {
       "children": [
        "IPY_MODEL_febb89a009054d53b8b3ba5fe1e062b1",
        "IPY_MODEL_a39c7dbcaf8741f8a5e9d53950c915ce"
       ],
       "layout": "IPY_MODEL_ed98075ab3024ea18122eeddf5c100ec"
      }
     },
     "ba0de53d7cb4443692677db993b9a501": {
      "model_module": "@jupyter-widgets/base",
      "model_module_version": "1.0.0",
      "model_name": "LayoutModel",
      "state": {}
     },
     "bb0e127fbc114a2eb01e295a3567f09d": {
      "model_module": "@jupyter-widgets/controls",
      "model_module_version": "1.2.0",
      "model_name": "HBoxModel",
      "state": {
       "children": [
        "IPY_MODEL_ffd05504fc28490c99e46a13271d9ce2",
        "IPY_MODEL_cf9fcdd5be894158bae5470ff02a0019"
       ],
       "layout": "IPY_MODEL_cf6eb9d22f4e489799defb93d3968044"
      }
     },
     "bb730b8202f640ee9aa960858d5f0cdd": {
      "model_module": "@jupyter-widgets/base",
      "model_module_version": "1.0.0",
      "model_name": "LayoutModel",
      "state": {}
     },
     "bc627bc6f7e04009b7744845344a0d64": {
      "model_module": "@jupyter-widgets/base",
      "model_module_version": "1.0.0",
      "model_name": "LayoutModel",
      "state": {}
     },
     "bd28879341d54aefa32275033d088cab": {
      "model_module": "@jupyter-widgets/controls",
      "model_module_version": "1.2.0",
      "model_name": "ButtonModel",
      "state": {
       "icon": "arrow-left",
       "layout": "IPY_MODEL_ec0809d27f234152a1938dbc4eee56cf",
       "style": "IPY_MODEL_13f33070b6ba443da4d14822255a5cfc"
      }
     },
     "bd469331fdf9458687ae3d3e3b494edb": {
      "model_module": "@jupyter-widgets/controls",
      "model_module_version": "1.2.0",
      "model_name": "IntProgressModel",
      "state": {
       "bar_style": "danger",
       "description": "Bot:",
       "layout": "IPY_MODEL_540036991abc458fba4885038f27ed66",
       "max": 50,
       "style": "IPY_MODEL_51c59e3c84d147b8a4426837d2b3486d"
      }
     },
     "bd625b5c59894c96a9e5fc29292bf9ae": {
      "model_module": "@jupyter-widgets/controls",
      "model_module_version": "1.2.0",
      "model_name": "ProgressStyleModel",
      "state": {
       "description_width": ""
      }
     },
     "bdf0b5b907304fdfa96bce6455431ada": {
      "model_module": "@jupyter-widgets/controls",
      "model_module_version": "1.2.0",
      "model_name": "ProgressStyleModel",
      "state": {
       "description_width": ""
      }
     },
     "be9c4f509a6c44a9af6b70fd5f3e4344": {
      "model_module": "@jupyter-widgets/base",
      "model_module_version": "1.0.0",
      "model_name": "LayoutModel",
      "state": {}
     },
     "bf1e30734ce84465ba74f9ceaf273173": {
      "model_module": "@jupyter-widgets/controls",
      "model_module_version": "1.2.0",
      "model_name": "ButtonModel",
      "state": {
       "icon": "right",
       "layout": "IPY_MODEL_d02ec497939c4536bb0f5dbaf612a190",
       "style": "IPY_MODEL_405f0761105b48c889b36cfe68920249"
      }
     },
     "bf910a1c1f37477690789a28b156397f": {
      "model_module": "@jupyter-widgets/base",
      "model_module_version": "1.0.0",
      "model_name": "LayoutModel",
      "state": {}
     },
     "c0eeaeac6cca4be983125f3d60fc52dd": {
      "model_module": "@jupyter-widgets/controls",
      "model_module_version": "1.2.0",
      "model_name": "ButtonStyleModel",
      "state": {}
     },
     "c1859d2ea63845ddbe1a93653d6a5d7c": {
      "model_module": "@jupyter-widgets/controls",
      "model_module_version": "1.2.0",
      "model_name": "VBoxModel",
      "state": {
       "children": [
        "IPY_MODEL_38e62908bc1846f58c05084456490244",
        "IPY_MODEL_e4c5d4ff8eb24db9907afb3cf1a0690d"
       ],
       "layout": "IPY_MODEL_92fc8552521642ba9dea70a2ecd5fa5c"
      }
     },
     "c1f0a36d45d0434c977d248918446deb": {
      "model_module": "@jupyter-widgets/controls",
      "model_module_version": "1.2.0",
      "model_name": "ButtonStyleModel",
      "state": {}
     },
     "c313a723843d4459a624d9b24034adaf": {
      "model_module": "@jupyter-widgets/base",
      "model_module_version": "1.0.0",
      "model_name": "LayoutModel",
      "state": {}
     },
     "c3411d5bd7144a4f9c3c0d5251c66790": {
      "model_module": "@jupyter-widgets/base",
      "model_module_version": "1.0.0",
      "model_name": "LayoutModel",
      "state": {}
     },
     "c4decd2d4e844b2eac114f8c177f4209": {
      "model_module": "@jupyter-widgets/controls",
      "model_module_version": "1.2.0",
      "model_name": "HBoxModel",
      "state": {
       "children": [
        "IPY_MODEL_28db689ad0084257bbfa1c5f0bd55f85",
        "IPY_MODEL_1b6f3fb9db7349618c8332b82b88bc9e"
       ],
       "layout": "IPY_MODEL_e3ea46c9113f44aaa29c0f91a914c2ca"
      }
     },
     "c5d86f684ce649aeb50bab229ab75eee": {
      "model_module": "@jupyter-widgets/controls",
      "model_module_version": "1.2.0",
      "model_name": "ButtonStyleModel",
      "state": {}
     },
     "c7abd37869cc4a7ca6acfe921b16e5af": {
      "model_module": "@jupyter-widgets/base",
      "model_module_version": "1.0.0",
      "model_name": "LayoutModel",
      "state": {}
     },
     "c91ac656a1dd4cdea0289d6daae21878": {
      "model_module": "@jupyter-widgets/base",
      "model_module_version": "1.0.0",
      "model_name": "LayoutModel",
      "state": {}
     },
     "c96ef29e78ac4e15abcd97ac58a45e04": {
      "model_module": "@jupyter-widgets/base",
      "model_module_version": "1.0.0",
      "model_name": "LayoutModel",
      "state": {}
     },
     "cc5317c21b60432d99c30d65584a750a": {
      "model_module": "@jupyter-widgets/controls",
      "model_module_version": "1.2.0",
      "model_name": "HBoxModel",
      "state": {
       "children": [
        "IPY_MODEL_bd28879341d54aefa32275033d088cab",
        "IPY_MODEL_307a8ad406bf4840aa5e8252f8a12af2"
       ],
       "layout": "IPY_MODEL_a77b64b24e824c8190e06cbb0ce8b6e2"
      }
     },
     "cf6eb9d22f4e489799defb93d3968044": {
      "model_module": "@jupyter-widgets/base",
      "model_module_version": "1.0.0",
      "model_name": "LayoutModel",
      "state": {}
     },
     "cf9fcdd5be894158bae5470ff02a0019": {
      "model_module": "@jupyter-widgets/controls",
      "model_module_version": "1.2.0",
      "model_name": "ButtonModel",
      "state": {
       "icon": "arrow-right",
       "layout": "IPY_MODEL_dd2141bf115e4c109d24887fe8a3d51a",
       "style": "IPY_MODEL_06142a40a7554127a5ba4007f756a6aa"
      }
     },
     "cfb2ec82cfe64883aed6e8d681254e55": {
      "model_module": "@jupyter-widgets/base",
      "model_module_version": "1.0.0",
      "model_name": "LayoutModel",
      "state": {}
     },
     "d02ec497939c4536bb0f5dbaf612a190": {
      "model_module": "@jupyter-widgets/base",
      "model_module_version": "1.0.0",
      "model_name": "LayoutModel",
      "state": {}
     },
     "d147a550230f4a35b95420f18bf6b0b9": {
      "model_module": "@jupyter-widgets/controls",
      "model_module_version": "1.2.0",
      "model_name": "ButtonModel",
      "state": {
       "icon": "arrow-right",
       "layout": "IPY_MODEL_2699cbb4637148e69e8fd56a7f92ccb1",
       "style": "IPY_MODEL_a5680cd7ecd14c0490aae77fd8bb2d8e"
      }
     },
     "d2e61c4854594f5c8f24f8336e775505": {
      "model_module": "@jupyter-widgets/controls",
      "model_module_version": "1.2.0",
      "model_name": "IntProgressModel",
      "state": {
       "bar_style": "success",
       "description": "You:",
       "layout": "IPY_MODEL_99eb1b3c7bc64062ba2e0eeb0ca83e63",
       "max": 50,
       "style": "IPY_MODEL_bd625b5c59894c96a9e5fc29292bf9ae"
      }
     },
     "d43bdb158d9e4286bebd4e07f6f7a972": {
      "model_module": "@jupyter-widgets/controls",
      "model_module_version": "1.2.0",
      "model_name": "HTMLModel",
      "state": {
       "layout": "IPY_MODEL_d90939795d7c4b0ca90b817fa3dafbb7",
       "style": "IPY_MODEL_89b3f9729fa447b58455402cf0e1be29",
       "value": "<h1 style='color:green' >You Win!</h1>"
      }
     },
     "d56931a0df3c4e02b285eb97568fba2e": {
      "model_module": "@jupyter-widgets/base",
      "model_module_version": "1.0.0",
      "model_name": "LayoutModel",
      "state": {}
     },
     "d90939795d7c4b0ca90b817fa3dafbb7": {
      "model_module": "@jupyter-widgets/base",
      "model_module_version": "1.0.0",
      "model_name": "LayoutModel",
      "state": {
       "visibility": "hidden"
      }
     },
     "d966ab248f6a447083e1ed15baa03b3b": {
      "model_module": "@jupyter-widgets/controls",
      "model_module_version": "1.2.0",
      "model_name": "IntProgressModel",
      "state": {
       "bar_style": "success",
       "description": "You:",
       "layout": "IPY_MODEL_5254a936ce2246e4a19e77f97a66eee7",
       "style": "IPY_MODEL_d9fdcd12d4fd481aaae09cf8e1a1a56d",
       "value": 4
      }
     },
     "d9fdcd12d4fd481aaae09cf8e1a1a56d": {
      "model_module": "@jupyter-widgets/controls",
      "model_module_version": "1.2.0",
      "model_name": "ProgressStyleModel",
      "state": {
       "description_width": ""
      }
     },
     "da15c93ff26e4499b1b9e1b7e2433042": {
      "model_module": "@jupyter-widgets/controls",
      "model_module_version": "1.2.0",
      "model_name": "ProgressStyleModel",
      "state": {
       "description_width": ""
      }
     },
     "dac3c146eec94f6699078888c1313236": {
      "model_module": "@jupyter-widgets/base",
      "model_module_version": "1.0.0",
      "model_name": "LayoutModel",
      "state": {}
     },
     "dc7586a3bbde41bebf052c13171ae121": {
      "model_module": "@jupyter-widgets/controls",
      "model_module_version": "1.2.0",
      "model_name": "ProgressStyleModel",
      "state": {
       "description_width": ""
      }
     },
     "dd2141bf115e4c109d24887fe8a3d51a": {
      "model_module": "@jupyter-widgets/base",
      "model_module_version": "1.0.0",
      "model_name": "LayoutModel",
      "state": {}
     },
     "de9d767b9abf4b4cadadf9bd8ea48e96": {
      "model_module": "@jupyter-widgets/controls",
      "model_module_version": "1.2.0",
      "model_name": "ButtonStyleModel",
      "state": {}
     },
     "e06da02ce4384ed98c0380cd0c8f4de5": {
      "model_module": "@jupyter-widgets/base",
      "model_module_version": "1.0.0",
      "model_name": "LayoutModel",
      "state": {}
     },
     "e3ea46c9113f44aaa29c0f91a914c2ca": {
      "model_module": "@jupyter-widgets/base",
      "model_module_version": "1.0.0",
      "model_name": "LayoutModel",
      "state": {}
     },
     "e3eec5fabb6540c89cb5d6acde955b5b": {
      "model_module": "@jupyter-widgets/controls",
      "model_module_version": "1.2.0",
      "model_name": "HTMLModel",
      "state": {
       "layout": "IPY_MODEL_34352daa8bbd4d9583b109634ab66663",
       "style": "IPY_MODEL_5a3d40dda89c4a3ea9c8ef305c05d905",
       "value": "<h1 style='color:green >You Win!</h1>"
      }
     },
     "e4c5d4ff8eb24db9907afb3cf1a0690d": {
      "model_module": "@jupyter-widgets/controls",
      "model_module_version": "1.2.0",
      "model_name": "IntProgressModel",
      "state": {
       "bar_style": "danger",
       "description": "Bot:",
       "layout": "IPY_MODEL_bb730b8202f640ee9aa960858d5f0cdd",
       "max": 50,
       "style": "IPY_MODEL_9887f650d5c446169889a4ddd6e60b48",
       "value": 50
      }
     },
     "e51f4ebb2e974df4be0dcd8998ebc4cf": {
      "model_module": "@jupyter-widgets/base",
      "model_module_version": "1.0.0",
      "model_name": "LayoutModel",
      "state": {}
     },
     "e55ed86d29fe407d88482345ef6951a8": {
      "model_module": "@jupyter-widgets/controls",
      "model_module_version": "1.2.0",
      "model_name": "DescriptionStyleModel",
      "state": {
       "description_width": ""
      }
     },
     "e7c0bbdb1caf48cba80814af87ba820b": {
      "model_module": "@jupyter-widgets/controls",
      "model_module_version": "1.2.0",
      "model_name": "ButtonStyleModel",
      "state": {}
     },
     "e81e1847717440bb8f08f7b0f52fd818": {
      "model_module": "@jupyter-widgets/base",
      "model_module_version": "1.0.0",
      "model_name": "LayoutModel",
      "state": {}
     },
     "e9231f8b68b9449488629453be362cab": {
      "model_module": "@jupyter-widgets/controls",
      "model_module_version": "1.2.0",
      "model_name": "ButtonModel",
      "state": {
       "icon": "arrow-left",
       "layout": "IPY_MODEL_9e18084e0bbf4ba7bbe75667b119dd31",
       "style": "IPY_MODEL_923aa3eb063b4915804d2cbd37cb9582"
      }
     },
     "eaec6a47954a414789b879c5c4bc5e92": {
      "model_module": "@jupyter-widgets/controls",
      "model_module_version": "1.2.0",
      "model_name": "ButtonStyleModel",
      "state": {}
     },
     "ec0809d27f234152a1938dbc4eee56cf": {
      "model_module": "@jupyter-widgets/base",
      "model_module_version": "1.0.0",
      "model_name": "LayoutModel",
      "state": {}
     },
     "ed98075ab3024ea18122eeddf5c100ec": {
      "model_module": "@jupyter-widgets/base",
      "model_module_version": "1.0.0",
      "model_name": "LayoutModel",
      "state": {}
     },
     "edbbd66ff88e46548265fb143cccf22d": {
      "model_module": "@jupyter-widgets/controls",
      "model_module_version": "1.2.0",
      "model_name": "IntProgressModel",
      "state": {
       "bar_style": "success",
       "description": "You:",
       "layout": "IPY_MODEL_410288e6d7704ee5994de4d26b65714c",
       "style": "IPY_MODEL_b84f77384d624f1ba76be5e2ffb4f969",
       "value": 5
      }
     },
     "eeec598a694e42cfbb4f199086b1000e": {
      "model_module": "@jupyter-widgets/controls",
      "model_module_version": "1.2.0",
      "model_name": "HTMLModel",
      "state": {
       "layout": "IPY_MODEL_b3c83aba03114d02bb7736d5e675f654",
       "style": "IPY_MODEL_2c98bfe4e82a44cbb4379f71e2ce3595",
       "value": "<h1 style='color:green' >You Win!</h1>"
      }
     },
     "f02b30ad3f944a918d1bd1174444e396": {
      "model_module": "@jupyter-widgets/base",
      "model_module_version": "1.0.0",
      "model_name": "LayoutModel",
      "state": {}
     },
     "f236ee5608ef42c5a2aeae2f555098d1": {
      "model_module": "@jupyter-widgets/controls",
      "model_module_version": "1.2.0",
      "model_name": "ButtonStyleModel",
      "state": {}
     },
     "f2cd4c1193174a1c90ecec037818a8f2": {
      "model_module": "@jupyter-widgets/controls",
      "model_module_version": "1.2.0",
      "model_name": "HTMLModel",
      "state": {
       "layout": "IPY_MODEL_096797d86fa94d44bf800df111ed9cd5",
       "style": "IPY_MODEL_8e94475268e045fa8528e400cd8ad30e",
       "value": "<h1 style='color:green' >You Win!</h1>"
      }
     },
     "f31052f73be54d01bac85a495a930b44": {
      "model_module": "@jupyter-widgets/controls",
      "model_module_version": "1.2.0",
      "model_name": "IntProgressModel",
      "state": {
       "bar_style": "success",
       "description": "You",
       "layout": "IPY_MODEL_cfb2ec82cfe64883aed6e8d681254e55",
       "style": "IPY_MODEL_569e03cd6945412689ec25e138c48230"
      }
     },
     "f44f51d8d8fb492da7345342a93ec1f7": {
      "model_module": "@jupyter-widgets/controls",
      "model_module_version": "1.2.0",
      "model_name": "DescriptionStyleModel",
      "state": {
       "description_width": ""
      }
     },
     "f7bcec7d799f4516b38be2b42fac7757": {
      "model_module": "@jupyter-widgets/controls",
      "model_module_version": "1.2.0",
      "model_name": "VBoxModel",
      "state": {
       "children": [
        "IPY_MODEL_d2e61c4854594f5c8f24f8336e775505",
        "IPY_MODEL_52f409f9cb864ff290573fb0b6d0ba16"
       ],
       "layout": "IPY_MODEL_8c7cb4e53ad545698b29bd1c7e2ce5b8"
      }
     },
     "f877d5276ac14333b146c0b26abf691d": {
      "model_module": "@jupyter-widgets/controls",
      "model_module_version": "1.2.0",
      "model_name": "HTMLModel",
      "state": {
       "layout": "IPY_MODEL_a14dc5ec08e649769f76debf3681e010",
       "style": "IPY_MODEL_2db705c9bbe84184a29c60d98482a3ab",
       "value": "<h1 style='color:green' >You Win!</h1>"
      }
     },
     "f8c05a9d309045faa605aa91ea622a83": {
      "model_module": "@jupyter-widgets/controls",
      "model_module_version": "1.2.0",
      "model_name": "ButtonModel",
      "state": {
       "icon": "arrow-left",
       "layout": "IPY_MODEL_265a82045e214004a0f167201979ca42",
       "style": "IPY_MODEL_26a1c645c1944e5a8cfb2c0f35bb01e9"
      }
     },
     "fa9cd853da3c4c29902be35690195f27": {
      "model_module": "@jupyter-widgets/controls",
      "model_module_version": "1.2.0",
      "model_name": "ButtonStyleModel",
      "state": {}
     },
     "fb7c881bb6ea4289aaccc665827230e5": {
      "model_module": "@jupyter-widgets/base",
      "model_module_version": "1.0.0",
      "model_name": "LayoutModel",
      "state": {}
     },
     "fc480240b40242788f3b982c06e9d17d": {
      "model_module": "@jupyter-widgets/base",
      "model_module_version": "1.0.0",
      "model_name": "LayoutModel",
      "state": {}
     },
     "fc916c938ee14a169ba9ce1507894b99": {
      "model_module": "@jupyter-widgets/controls",
      "model_module_version": "1.2.0",
      "model_name": "ProgressStyleModel",
      "state": {
       "description_width": ""
      }
     },
     "fd926525d4d54e2c97bb9afa77ab4db4": {
      "model_module": "@jupyter-widgets/controls",
      "model_module_version": "1.2.0",
      "model_name": "HBoxModel",
      "state": {
       "children": [
        "IPY_MODEL_3210f39736cb42aba738a685a0a8ecf3",
        "IPY_MODEL_d147a550230f4a35b95420f18bf6b0b9"
       ],
       "layout": "IPY_MODEL_c7abd37869cc4a7ca6acfe921b16e5af"
      }
     },
     "fe0d1bd750fe4d869df4414747f3823a": {
      "model_module": "@jupyter-widgets/controls",
      "model_module_version": "1.2.0",
      "model_name": "ButtonStyleModel",
      "state": {}
     },
     "febb89a009054d53b8b3ba5fe1e062b1": {
      "model_module": "@jupyter-widgets/controls",
      "model_module_version": "1.2.0",
      "model_name": "ButtonModel",
      "state": {
       "icon": "arrow-left",
       "layout": "IPY_MODEL_c3411d5bd7144a4f9c3c0d5251c66790",
       "style": "IPY_MODEL_3d2c2fc07b074b80a6058acaa0dc3a9a"
      }
     },
     "ff89acddffc84635ab1d2c4e2cecdaeb": {
      "model_module": "@jupyter-widgets/base",
      "model_module_version": "1.0.0",
      "model_name": "LayoutModel",
      "state": {}
     },
     "ffcf78d2ca034702b9e2216444bd60b6": {
      "model_module": "@jupyter-widgets/controls",
      "model_module_version": "1.2.0",
      "model_name": "ButtonModel",
      "state": {
       "icon": "arrow-right",
       "layout": "IPY_MODEL_c313a723843d4459a624d9b24034adaf",
       "style": "IPY_MODEL_aebe43d0029943a998ca7f966ea58f59"
      }
     },
     "ffd05504fc28490c99e46a13271d9ce2": {
      "model_module": "@jupyter-widgets/controls",
      "model_module_version": "1.2.0",
      "model_name": "ButtonModel",
      "state": {
       "icon": "arrow-left",
       "layout": "IPY_MODEL_06e7c4cf00014245949945dcc58b41b9",
       "style": "IPY_MODEL_c1f0a36d45d0434c977d248918446deb"
      }
     },
     "fff0d4a24c3a49c38bc5e446e03821d8": {
      "model_module": "@jupyter-widgets/controls",
      "model_module_version": "1.2.0",
      "model_name": "HTMLModel",
      "state": {
       "layout": "IPY_MODEL_313f82c4ddec42db834b1fc5d880b835",
       "style": "IPY_MODEL_686ef0ae59d04474b0ead3b30efb46a0",
       "value": "<h1 style='color:green' >You Win!</h1>"
      }
     }
    },
    "version_major": 2,
    "version_minor": 0
   }
  }
 },
 "nbformat": 4,
 "nbformat_minor": 2
}
